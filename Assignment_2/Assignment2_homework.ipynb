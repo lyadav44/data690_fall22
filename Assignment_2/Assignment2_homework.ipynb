{
  "nbformat": 4,
  "nbformat_minor": 0,
  "metadata": {
    "colab": {
      "provenance": [],
      "authorship_tag": "ABX9TyMexsZQ5ckkEYjvMIMy6oGA",
      "include_colab_link": true
    },
    "kernelspec": {
      "name": "python3",
      "display_name": "Python 3"
    },
    "language_info": {
      "name": "python"
    }
  },
  "cells": [
    {
      "cell_type": "markdown",
      "metadata": {
        "id": "view-in-github",
        "colab_type": "text"
      },
      "source": [
        "<a href=\"https://colab.research.google.com/github/lyadav44/data690_fall22/blob/main/Assignment_2/Assignment2_homework.ipynb\" target=\"_parent\"><img src=\"https://colab.research.google.com/assets/colab-badge.svg\" alt=\"Open In Colab\"/></a>"
      ]
    },
    {
      "cell_type": "markdown",
      "source": [
        "#Assigment 2_Homework: Submitted by Laxmi Yadav(AP07297)"
      ],
      "metadata": {
        "id": "BzA1TAO2RwE0"
      }
    },
    {
      "cell_type": "markdown",
      "source": [
        "- Prompt a user to enter 10 integers.\n",
        "- If the user enters anything other than integers, remind her that only integers are allowed and let her retry.\n",
        "  **Note: You need to detect if the user makes a mistake and let the user retry without exiting the program. The previously entered valid inputs should be kept and not lost**\n",
        "- Don't allow the user to enter more than 10 or less than 10 integers.\n",
        "- Display the 10 integers back to the user at the end."
      ],
      "metadata": {
        "id": "HpAiMnOARz5m"
      }
    },
    {
      "cell_type": "code",
      "source": [
        "inputlist= [] #initialising the list\n",
        "for i in range(10):\n",
        "  while True:\n",
        "    num = input(\"Please enter an integer: \")\n",
        "    try:\n",
        "        val = int(num) #Typecasting to integer\n",
        "        break;\n",
        "    except ValueError:\n",
        "        try:\n",
        "            float(num)\n",
        "            break;\n",
        "        except ValueError:\n",
        "            print(\"Please enter a valid number\")\n",
        "  inputlist.append(val)\n",
        "print(\"User input:\",inputlist) #display the list"
      ],
      "metadata": {
        "colab": {
          "base_uri": "https://localhost:8080/"
        },
        "id": "IOQPc4EKw9aN",
        "outputId": "88a6023b-e585-4eea-bd34-f60d557ed85e"
      },
      "execution_count": 33,
      "outputs": [
        {
          "output_type": "stream",
          "name": "stdout",
          "text": [
            "Please enter an integer: 1\n",
            "Please enter an integer: \n",
            "Please enter a valid number\n",
            "Please enter an integer: \n",
            "Please enter a valid number\n",
            "Please enter an integer: \n",
            "Please enter a valid number\n",
            "Please enter an integer: 4\n",
            "Please enter an integer: 5\n",
            "Please enter an integer: 6\n",
            "Please enter an integer: 5\n",
            "Please enter an integer: 8\n",
            "Please enter an integer: 7\n",
            "Please enter an integer: 1\n",
            "Please enter an integer: 3\n",
            "Please enter an integer: 3\n",
            "User input: [1, 4, 5, 6, 5, 8, 7, 1, 3, 3]\n"
          ]
        }
      ]
    },
    {
      "cell_type": "markdown",
      "source": [
        "- Calculate the following statistics from the 10 integers entered and display the results back to the user:\n",
        "- Minimum\n",
        "- Maximum\n",
        "- Range\n",
        "- Mean\n",
        "- Variance\n",
        "- Standard Deviation"
      ],
      "metadata": {
        "id": "Cp2EHt2VSY6Q"
      }
    },
    {
      "cell_type": "code",
      "source": [
        "#finding the minimum value from the list\n",
        "min= inputlist[0]\n",
        "for temp in inputlist:\n",
        "    if temp < min:\n",
        "        min = temp\n",
        "print('minimum : '+str(min))\n"
      ],
      "metadata": {
        "colab": {
          "base_uri": "https://localhost:8080/"
        },
        "id": "EZZ_hxAi51yR",
        "outputId": "e9082d2d-be5d-471e-877d-041f66bc1ece"
      },
      "execution_count": 34,
      "outputs": [
        {
          "output_type": "stream",
          "name": "stdout",
          "text": [
            "minimum : 1\n"
          ]
        }
      ]
    },
    {
      "cell_type": "code",
      "source": [
        "#finding the maximum value from the list\n",
        "max= inputlist[0]\n",
        "for temp in inputlist:\n",
        "    if temp > max:\n",
        "        max = temp\n",
        "print('maximum : '+str(max))"
      ],
      "metadata": {
        "colab": {
          "base_uri": "https://localhost:8080/"
        },
        "id": "oHwd3F4SCsIc",
        "outputId": "7386c7b0-9353-4ff7-f9ee-4332685c9cf4"
      },
      "execution_count": 58,
      "outputs": [
        {
          "output_type": "stream",
          "name": "stdout",
          "text": [
            "maximum : 8\n"
          ]
        }
      ]
    },
    {
      "cell_type": "code",
      "source": [
        "#finding the range of the list\n",
        "def ranges(inputlist):\n",
        "    s = e = None\n",
        "    r = []\n",
        "    for i in sorted(inputlist):\n",
        "        if s is None:\n",
        "            s = e = i\n",
        "        elif i == e or i == e + 1:\n",
        "            e = i\n",
        "        else:\n",
        "            r.append((s, e))\n",
        "            s = e = i\n",
        "    if s is not None:\n",
        "        r.append((s, e))\n",
        "    return r\n",
        "print(ranges(inputlist))"
      ],
      "metadata": {
        "colab": {
          "base_uri": "https://localhost:8080/"
        },
        "id": "F_f5Ii-vC1E5",
        "outputId": "92eedb5c-d418-4275-b650-3f0e6b8f603b"
      },
      "execution_count": 59,
      "outputs": [
        {
          "output_type": "stream",
          "name": "stdout",
          "text": [
            "[(1, 1), (3, 8)]\n"
          ]
        }
      ]
    },
    {
      "cell_type": "code",
      "source": [
        "#finding the length of the list \n",
        "n= len(inputlist)\n",
        "n"
      ],
      "metadata": {
        "colab": {
          "base_uri": "https://localhost:8080/"
        },
        "id": "In8LzbzkN1KH",
        "outputId": "c89c077a-3b40-4498-af5e-4ff7a52d3773"
      },
      "execution_count": 38,
      "outputs": [
        {
          "output_type": "execute_result",
          "data": {
            "text/plain": [
              "10"
            ]
          },
          "metadata": {},
          "execution_count": 38
        }
      ]
    },
    {
      "cell_type": "code",
      "source": [
        "#finding the mean of the list of interger number\n",
        "total=0\n",
        "for number in inputlist:\n",
        "    total= total + number\n",
        "print(total)\n",
        "mean =total/n\n",
        "print(\"Mean: \", mean)"
      ],
      "metadata": {
        "colab": {
          "base_uri": "https://localhost:8080/"
        },
        "id": "xt5bi-ChOsrw",
        "outputId": "bdfd6635-0690-4159-b0d6-665ee867d43c"
      },
      "execution_count": 42,
      "outputs": [
        {
          "output_type": "stream",
          "name": "stdout",
          "text": [
            "43\n",
            "Mean:  4.3\n"
          ]
        }
      ]
    },
    {
      "cell_type": "code",
      "source": [
        "#finding the variance of the list of integer number\n",
        "variance = sum((i - mean) ** 2 for i in inputlist) / len(inputlist)\n",
        "print(\"The variance of list is : \",variance)"
      ],
      "metadata": {
        "colab": {
          "base_uri": "https://localhost:8080/"
        },
        "id": "kFp2XAv6PGcI",
        "outputId": "f2ade7ba-c78e-43ab-eee6-e15c89b1bce4"
      },
      "execution_count": 54,
      "outputs": [
        {
          "output_type": "stream",
          "name": "stdout",
          "text": [
            "The variance of list is :  5.01\n"
          ]
        }
      ]
    },
    {
      "cell_type": "code",
      "source": [
        "#Finding the standard deviation of the list of the integer\n",
        "sd = variance ** 0.5\n",
        "print(\"The standard deviation of list is : \", sd)"
      ],
      "metadata": {
        "colab": {
          "base_uri": "https://localhost:8080/"
        },
        "id": "aFm171gsQpHe",
        "outputId": "616bcc17-3c75-4c8c-b90e-5832aefba518"
      },
      "execution_count": 61,
      "outputs": [
        {
          "output_type": "stream",
          "name": "stdout",
          "text": [
            "The standard deviation of list is :  2.238302928559939\n"
          ]
        }
      ]
    },
    {
      "cell_type": "code",
      "source": [],
      "metadata": {
        "id": "44W-vP95QKeQ"
      },
      "execution_count": null,
      "outputs": []
    }
  ]
}