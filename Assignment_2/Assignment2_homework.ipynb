{
  "nbformat": 4,
  "nbformat_minor": 0,
  "metadata": {
    "colab": {
      "provenance": [],
      "authorship_tag": "ABX9TyP9Brr/q+GKbNvXaQAlA8OE",
      "include_colab_link": true
    },
    "kernelspec": {
      "name": "python3",
      "display_name": "Python 3"
    },
    "language_info": {
      "name": "python"
    }
  },
  "cells": [
    {
      "cell_type": "markdown",
      "metadata": {
        "id": "view-in-github",
        "colab_type": "text"
      },
      "source": [
        "<a href=\"https://colab.research.google.com/github/lyadav44/data690_fall22/blob/main/Assignment_2/Assignment2_homework.ipynb\" target=\"_parent\"><img src=\"https://colab.research.google.com/assets/colab-badge.svg\" alt=\"Open In Colab\"/></a>"
      ]
    },
    {
      "cell_type": "markdown",
      "source": [
        "#Assigment 2_Homework: Submitted by Laxmi Yadav(AP07297)"
      ],
      "metadata": {
        "id": "BzA1TAO2RwE0"
      }
    },
    {
      "cell_type": "markdown",
      "source": [
        "- Prompt a user to enter 10 integers.\n",
        "- If the user enters anything other than integers, remind her that only integers are allowed and let her retry.\n",
        "  **Note: You need to detect if the user makes a mistake and let the user retry without exiting the program. The previously entered valid inputs should be kept and not lost**\n",
        "- Don't allow the user to enter more than 10 or less than 10 integers.\n",
        "- Display the 10 integers back to the user at the end."
      ],
      "metadata": {
        "id": "HpAiMnOARz5m"
      }
    },
    {
      "cell_type": "code",
      "source": [
        "inputlist= [] #initialising the list\n",
        "for i in range(10):\n",
        "  while True:\n",
        "    num = input(\"Please enter an integer: \")\n",
        "    try:\n",
        "        val = int(num) #Typecasting to integer\n",
        "        break;\n",
        "    except ValueError:\n",
        "        print(\"Please enter a valid number\")\n",
        "  inputlist.append(val)\n",
        "print(\"User input:\",inputlist) #display the list"
      ],
      "metadata": {
        "colab": {
          "base_uri": "https://localhost:8080/"
        },
        "id": "IOQPc4EKw9aN",
        "outputId": "fb8c6661-dd46-4713-b61e-437946a5dd71"
      },
      "execution_count": 5,
      "outputs": [
        {
          "output_type": "stream",
          "name": "stdout",
          "text": [
            "Please enter an integer: 1\n",
            "Please enter an integer: \n",
            "Please enter a valid number\n",
            "Please enter an integer: 3\n",
            "Please enter an integer: 4\n",
            "Please enter an integer: 5\n",
            "Please enter an integer: 6\n",
            "Please enter an integer: 7\n",
            "Please enter an integer: 8\n",
            "Please enter an integer: 10\n",
            "Please enter an integer: 1.5\n",
            "Please enter a valid number\n",
            "Please enter an integer: 9\n",
            "Please enter an integer: 8\n",
            "User input: [1, 3, 4, 5, 6, 7, 8, 10, 9, 8]\n"
          ]
        }
      ]
    },
    {
      "cell_type": "markdown",
      "source": [
        "- Calculate the following statistics from the 10 integers entered and display the results back to the user:\n",
        "- Minimum\n",
        "- Maximum\n",
        "- Range\n",
        "- Mean\n",
        "- Variance\n",
        "- Standard Deviation"
      ],
      "metadata": {
        "id": "Cp2EHt2VSY6Q"
      }
    },
    {
      "cell_type": "code",
      "source": [
        "#finding the minimum value from the list\n",
        "min= inputlist[0]\n",
        "for temp in inputlist:\n",
        "    if temp < min:\n",
        "        min = temp\n",
        "print('minimum : '+str(min))\n"
      ],
      "metadata": {
        "colab": {
          "base_uri": "https://localhost:8080/"
        },
        "id": "EZZ_hxAi51yR",
        "outputId": "23e51862-bade-4bd9-aeca-b8647f42fa21"
      },
      "execution_count": 6,
      "outputs": [
        {
          "output_type": "stream",
          "name": "stdout",
          "text": [
            "minimum : 1\n"
          ]
        }
      ]
    },
    {
      "cell_type": "code",
      "source": [
        "#finding the maximum value from the list\n",
        "max= inputlist[0]\n",
        "for temp in inputlist:\n",
        "    if temp > max:\n",
        "        max = temp\n",
        "print('maximum : '+str(max))"
      ],
      "metadata": {
        "colab": {
          "base_uri": "https://localhost:8080/"
        },
        "id": "oHwd3F4SCsIc",
        "outputId": "140b5c24-1b8f-4308-ccf0-c95bbf476afc"
      },
      "execution_count": 7,
      "outputs": [
        {
          "output_type": "stream",
          "name": "stdout",
          "text": [
            "maximum : 10\n"
          ]
        }
      ]
    },
    {
      "cell_type": "markdown",
      "source": [
        "###Range: \n",
        "**The difference between maximum and minimum value is defined as Range**\n",
        "\n"
      ],
      "metadata": {
        "id": "HRzEu3cxs_Dd"
      }
    },
    {
      "cell_type": "code",
      "source": [
        "#finding the range of the list\n",
        "range= max - min\n",
        "print(range)"
      ],
      "metadata": {
        "colab": {
          "base_uri": "https://localhost:8080/"
        },
        "id": "F_f5Ii-vC1E5",
        "outputId": "228cdd36-9671-45f5-e8cb-5d9f8485399f"
      },
      "execution_count": 10,
      "outputs": [
        {
          "output_type": "stream",
          "name": "stdout",
          "text": [
            "9\n"
          ]
        }
      ]
    },
    {
      "cell_type": "markdown",
      "source": [
        "**Finding the lenth of the list using len() function**"
      ],
      "metadata": {
        "id": "qpcIZIgztT9n"
      }
    },
    {
      "cell_type": "code",
      "source": [
        "#finding the length of the list \n",
        "n= len(inputlist)\n",
        "n"
      ],
      "metadata": {
        "colab": {
          "base_uri": "https://localhost:8080/"
        },
        "id": "In8LzbzkN1KH",
        "outputId": "e1f4693d-5dde-4b8e-9d66-3da1940b4ba4"
      },
      "execution_count": 11,
      "outputs": [
        {
          "output_type": "execute_result",
          "data": {
            "text/plain": [
              "10"
            ]
          },
          "metadata": {},
          "execution_count": 11
        }
      ]
    },
    {
      "cell_type": "markdown",
      "source": [
        "###Mean\n",
        "-Mean value is calculated by adding the numbers and dividing the sum by the number of numbers in the list"
      ],
      "metadata": {
        "id": "r870AjhktbVn"
      }
    },
    {
      "cell_type": "code",
      "source": [
        "#finding the mean of the list of interger number\n",
        "total=0\n",
        "for number in inputlist:\n",
        "    total= total + number\n",
        "print(total)\n",
        "mean =total/n\n",
        "print(\"Mean: \", mean)"
      ],
      "metadata": {
        "colab": {
          "base_uri": "https://localhost:8080/"
        },
        "id": "xt5bi-ChOsrw",
        "outputId": "f13da080-b5ea-4a2d-dffe-47eaca66fec2"
      },
      "execution_count": 12,
      "outputs": [
        {
          "output_type": "stream",
          "name": "stdout",
          "text": [
            "61\n",
            "Mean:  6.1\n"
          ]
        }
      ]
    },
    {
      "cell_type": "markdown",
      "source": [
        "###Variance\n"
      ],
      "metadata": {
        "id": "-C9WwL92uvqu"
      }
    },
    {
      "cell_type": "code",
      "source": [
        "#finding the variance of the list of integer number\n",
        "variance = sum((i - mean) ** 2 for i in inputlist) / len(inputlist)\n",
        "print(\"The variance of list is : \",variance)"
      ],
      "metadata": {
        "colab": {
          "base_uri": "https://localhost:8080/"
        },
        "id": "kFp2XAv6PGcI",
        "outputId": "d4f46b80-b4ab-4d7b-91a4-0011ffce531b"
      },
      "execution_count": 13,
      "outputs": [
        {
          "output_type": "stream",
          "name": "stdout",
          "text": [
            "The variance of list is :  7.289999999999999\n"
          ]
        }
      ]
    },
    {
      "cell_type": "markdown",
      "source": [
        "###Standard deviation:\n"
      ],
      "metadata": {
        "id": "8r0IR9nPvVp1"
      }
    },
    {
      "cell_type": "code",
      "source": [
        "#Finding the standard deviation of the list of the integer\n",
        "sd = variance ** 0.5\n",
        "print(\"The standard deviation of list is : \", sd)"
      ],
      "metadata": {
        "colab": {
          "base_uri": "https://localhost:8080/"
        },
        "id": "aFm171gsQpHe",
        "outputId": "a541d7d7-a674-45a1-d0fc-cae75af3667a"
      },
      "execution_count": 14,
      "outputs": [
        {
          "output_type": "stream",
          "name": "stdout",
          "text": [
            "The standard deviation of list is :  2.6999999999999997\n"
          ]
        }
      ]
    },
    {
      "cell_type": "markdown",
      "source": [
        "**References:**\n",
        "- https://stackoverflow.com/questions/70238155/ask-a-user-for-10-integers-one-at-a-time-and-store-in-list-python\n",
        "-https://www.geeksforgeeks.org/python-standard-deviation-of-list/\n",
        "-https://www.geeksforgeeks.org/python-variance-of-list/\n",
        "-https://www.geeksforgeeks.org/finding-mean-median-mode-in-python-without-libraries/"
      ],
      "metadata": {
        "id": "yWZ_z2w0xRF2"
      }
    }
  ]
}