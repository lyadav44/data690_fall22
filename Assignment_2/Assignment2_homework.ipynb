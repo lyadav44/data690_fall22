{
  "nbformat": 4,
  "nbformat_minor": 0,
  "metadata": {
    "colab": {
      "provenance": [],
      "authorship_tag": "ABX9TyPZIxwgzwvcd+UXgiI4JHy/",
      "include_colab_link": true
    },
    "kernelspec": {
      "name": "python3",
      "display_name": "Python 3"
    },
    "language_info": {
      "name": "python"
    }
  },
  "cells": [
    {
      "cell_type": "markdown",
      "metadata": {
        "id": "view-in-github",
        "colab_type": "text"
      },
      "source": [
        "<a href=\"https://colab.research.google.com/github/lyadav44/data690_fall22/blob/main/Assignment_2/Assignment2_homework.ipynb\" target=\"_parent\"><img src=\"https://colab.research.google.com/assets/colab-badge.svg\" alt=\"Open In Colab\"/></a>"
      ]
    },
    {
      "cell_type": "markdown",
      "source": [
        "#Assigment 2_Homework: Submitted by Laxmi Yadav(AP07297)"
      ],
      "metadata": {
        "id": "BzA1TAO2RwE0"
      }
    },
    {
      "cell_type": "markdown",
      "source": [
        "- Prompt a user to enter 10 integers.\n",
        "- If the user enters anything other than integers, remind her that only integers are allowed and let her retry.\n",
        "  **Note: You need to detect if the user makes a mistake and let the user retry without exiting the program. The previously entered valid inputs should be kept and not lost**\n",
        "- Don't allow the user to enter more than 10 or less than 10 integers.\n",
        "- Display the 10 integers back to the user at the end."
      ],
      "metadata": {
        "id": "HpAiMnOARz5m"
      }
    },
    {
      "cell_type": "code",
      "source": [
        "inplist= [] #initialising the list\n",
        "for i in range(10):\n",
        "  while True:\n",
        "    num = input(\"Please enter an integer: \")\n",
        "    try:\n",
        "        val = int(num) #Typecasting to integer\n",
        "        break;\n",
        "    except vError:\n",
        "        print(\"Please enter a valid number\")\n",
        "  inplist.append(val)\n",
        "print(\"User input:\",inplist) #display the list"
      ],
      "metadata": {
        "colab": {
          "base_uri": "https://localhost:8080/"
        },
        "id": "IOQPc4EKw9aN",
        "outputId": "27ce41b0-f51e-42ea-a670-0a8da41045e1"
      },
      "execution_count": 1,
      "outputs": [
        {
          "output_type": "stream",
          "name": "stdout",
          "text": [
            "Please enter an integer: 1\n",
            "Please enter an integer: 2\n",
            "Please enter an integer: 3\n",
            "Please enter an integer: 4\n",
            "Please enter an integer: 5\n",
            "Please enter an integer: 6\n",
            "Please enter an integer: 7\n",
            "Please enter an integer: 8\n",
            "Please enter an integer: 9\n",
            "Please enter an integer: 70\n",
            "User input: [1, 2, 3, 4, 5, 6, 7, 8, 9, 70]\n"
          ]
        }
      ]
    },
    {
      "cell_type": "markdown",
      "source": [
        "- Calculate the following statistics from the 10 integers entered and display the results back to the user:\n",
        "- Minimum\n",
        "- Maximum\n",
        "- Range\n",
        "- Mean\n",
        "- Variance\n",
        "- Standard Deviation"
      ],
      "metadata": {
        "id": "Cp2EHt2VSY6Q"
      }
    },
    {
      "cell_type": "code",
      "source": [
        "#finding the minimum value from the list\n",
        "min= inplist[0]\n",
        "for temp in inplist:\n",
        "    if temp < min:\n",
        "        min = temp\n",
        "print('Minimum value of the list : '+str(min))\n"
      ],
      "metadata": {
        "colab": {
          "base_uri": "https://localhost:8080/"
        },
        "id": "EZZ_hxAi51yR",
        "outputId": "b6808204-7c4c-4797-a768-f90097adfb86"
      },
      "execution_count": 2,
      "outputs": [
        {
          "output_type": "stream",
          "name": "stdout",
          "text": [
            "Minimum value of the list : 1\n"
          ]
        }
      ]
    },
    {
      "cell_type": "code",
      "source": [
        "#finding the maximum value from the list\n",
        "max= inplist[0]\n",
        "for temp in inplist:\n",
        "    if temp > max:\n",
        "        max = temp\n",
        "print('Maximum value of the list : '+str(max))"
      ],
      "metadata": {
        "colab": {
          "base_uri": "https://localhost:8080/"
        },
        "id": "oHwd3F4SCsIc",
        "outputId": "e7d7db6c-9763-4f15-9d43-6e5e9ae1cb16"
      },
      "execution_count": 3,
      "outputs": [
        {
          "output_type": "stream",
          "name": "stdout",
          "text": [
            "Maximum value of the list : 70\n"
          ]
        }
      ]
    },
    {
      "cell_type": "markdown",
      "source": [
        "###Range: \n",
        "**The difference between maximum and minimum value is defined as Range**\n",
        "\n"
      ],
      "metadata": {
        "id": "HRzEu3cxs_Dd"
      }
    },
    {
      "cell_type": "code",
      "source": [
        "#finding the range of the list\n",
        "range= max - min\n",
        "print(\"Range: \",range)"
      ],
      "metadata": {
        "colab": {
          "base_uri": "https://localhost:8080/"
        },
        "id": "F_f5Ii-vC1E5",
        "outputId": "9bd8e97c-c07d-4a1f-dbe5-c3473b81b8ea"
      },
      "execution_count": 4,
      "outputs": [
        {
          "output_type": "stream",
          "name": "stdout",
          "text": [
            "Range:  69\n"
          ]
        }
      ]
    },
    {
      "cell_type": "markdown",
      "source": [
        "**Finding the lenth of the list using len() function**"
      ],
      "metadata": {
        "id": "qpcIZIgztT9n"
      }
    },
    {
      "cell_type": "code",
      "source": [
        "#finding the length of the list \n",
        "n= len(inplist)\n",
        "n"
      ],
      "metadata": {
        "colab": {
          "base_uri": "https://localhost:8080/"
        },
        "id": "In8LzbzkN1KH",
        "outputId": "35657184-5eec-486d-8309-95d359223332"
      },
      "execution_count": 5,
      "outputs": [
        {
          "output_type": "execute_result",
          "data": {
            "text/plain": [
              "10"
            ]
          },
          "metadata": {},
          "execution_count": 5
        }
      ]
    },
    {
      "cell_type": "markdown",
      "source": [
        "###Mean\n",
        "-Mean value is calculated by adding the numbers and dividing the sum by the number of numbers in the list"
      ],
      "metadata": {
        "id": "r870AjhktbVn"
      }
    },
    {
      "cell_type": "code",
      "source": [
        "#finding the mean of the list of interger number\n",
        "total=0\n",
        "for number in inplist:\n",
        "    total= total + number\n",
        "print(\"Total: \", total)\n",
        "mean =total/n\n",
        "print(\"Mean value of the list: \", mean)"
      ],
      "metadata": {
        "colab": {
          "base_uri": "https://localhost:8080/"
        },
        "id": "xt5bi-ChOsrw",
        "outputId": "1dc97ce6-63b1-4e2e-fb35-74630e9fa3fa"
      },
      "execution_count": 6,
      "outputs": [
        {
          "output_type": "stream",
          "name": "stdout",
          "text": [
            "Total:  115\n",
            "Mean value of the list:  11.5\n"
          ]
        }
      ]
    },
    {
      "cell_type": "markdown",
      "source": [
        "###Variance\n"
      ],
      "metadata": {
        "id": "-C9WwL92uvqu"
      }
    },
    {
      "cell_type": "code",
      "source": [
        "#finding the variance of the list of integer number\n",
        "variance = sum((i - mean) ** 2 for i in inplist) / len(inplist)\n",
        "print(\"The variance of list is : \",variance)"
      ],
      "metadata": {
        "colab": {
          "base_uri": "https://localhost:8080/"
        },
        "id": "kFp2XAv6PGcI",
        "outputId": "53d35b0b-f0ad-4b50-f51b-02adea36a1d2"
      },
      "execution_count": 7,
      "outputs": [
        {
          "output_type": "stream",
          "name": "stdout",
          "text": [
            "The variance of list is :  386.25\n"
          ]
        }
      ]
    },
    {
      "cell_type": "markdown",
      "source": [
        "###Standard deviation:\n"
      ],
      "metadata": {
        "id": "8r0IR9nPvVp1"
      }
    },
    {
      "cell_type": "code",
      "source": [
        "#Finding the standard deviation of the list of the integer\n",
        "sd = variance ** 0.5\n",
        "print(\"The standard deviation of list is : \", sd)"
      ],
      "metadata": {
        "colab": {
          "base_uri": "https://localhost:8080/"
        },
        "id": "aFm171gsQpHe",
        "outputId": "7ffa6cd9-a495-4d57-84b5-358768daa953"
      },
      "execution_count": 8,
      "outputs": [
        {
          "output_type": "stream",
          "name": "stdout",
          "text": [
            "The standard deviation of list is :  19.653244007033546\n"
          ]
        }
      ]
    },
    {
      "cell_type": "markdown",
      "source": [
        "**References:**\n",
        "- https://stackoverflow.com/questions/70238155/ask-a-user-for-10-integers-one-at-a-time-and-store-in-list-python\n",
        "-https://www.geeksforgeeks.org/python-standard-deviation-of-list/\n",
        "-https://www.geeksforgeeks.org/python-variance-of-list/\n",
        "-https://www.geeksforgeeks.org/finding-mean-median-mode-in-python-without-libraries/"
      ],
      "metadata": {
        "id": "yWZ_z2w0xRF2"
      }
    }
  ]
}