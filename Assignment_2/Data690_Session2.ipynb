{
  "nbformat": 4,
  "nbformat_minor": 0,
  "metadata": {
    "colab": {
      "provenance": [],
      "authorship_tag": "ABX9TyOX3Nkl5/uT1zLN8CrJ35Xl",
      "include_colab_link": true
    },
    "kernelspec": {
      "name": "python3",
      "display_name": "Python 3"
    },
    "language_info": {
      "name": "python"
    }
  },
  "cells": [
    {
      "cell_type": "markdown",
      "metadata": {
        "id": "view-in-github",
        "colab_type": "text"
      },
      "source": [
        "<a href=\"https://colab.research.google.com/github/lyadav44/data690_fall22/blob/main/Assignment_2/Data690_Session2.ipynb\" target=\"_parent\"><img src=\"https://colab.research.google.com/assets/colab-badge.svg\" alt=\"Open In Colab\"/></a>"
      ]
    },
    {
      "cell_type": "markdown",
      "source": [
        "#Data690: Session 2  9/8/22\n"
      ],
      "metadata": {
        "id": "i2_pTEcHcluH"
      }
    },
    {
      "cell_type": "code",
      "source": [
        "years = \"1/11/1997 1991 2000 1969 1999 1998 1993 1996 1999 1997 1996 1998 1995 1999 1999 1997 1996 1996 1997 1995 1997 1999 2000\"\n",
        "print(\"birth year of student\", years) "
      ],
      "metadata": {
        "colab": {
          "base_uri": "https://localhost:8080/"
        },
        "id": "pb3HAriKck24",
        "outputId": "4e322db6-011a-4ef5-fc96-537852cb5dc9"
      },
      "execution_count": 10,
      "outputs": [
        {
          "output_type": "stream",
          "name": "stdout",
          "text": [
            "birth year of student 1/11/1997 1991 2000 1969 1999 1998 1993 1996 1999 1997 1996 1998 1995 1999 1999 1997 1996 1996 1997 1995 1997 1999 2000\n"
          ]
        }
      ]
    },
    {
      "cell_type": "code",
      "source": [
        "type(years) #to know type of the variable"
      ],
      "metadata": {
        "colab": {
          "base_uri": "https://localhost:8080/"
        },
        "id": "z4iBP0MWdjAM",
        "outputId": "4c4f56e9-050a-422f-aa1a-8a2852706c11"
      },
      "execution_count": 11,
      "outputs": [
        {
          "output_type": "execute_result",
          "data": {
            "text/plain": [
              "str"
            ]
          },
          "metadata": {},
          "execution_count": 11
        }
      ]
    },
    {
      "cell_type": "code",
      "source": [
        "years_list= years.split(\" \")\n"
      ],
      "metadata": {
        "id": "80bvdL_cgM-9"
      },
      "execution_count": 12,
      "outputs": []
    },
    {
      "cell_type": "code",
      "source": [
        "print(years_list)"
      ],
      "metadata": {
        "colab": {
          "base_uri": "https://localhost:8080/"
        },
        "id": "7WPfvPv2gnzD",
        "outputId": "95f9f0d9-c266-49ee-a4a2-9afbb0c95576"
      },
      "execution_count": 13,
      "outputs": [
        {
          "output_type": "stream",
          "name": "stdout",
          "text": [
            "['1/11/1997', '1991', '2000', '1969', '1999', '1998', '1993', '1996', '1999', '1997', '1996', '1998', '1995', '1999', '1999', '1997', '1996', '1996', '1997', '1995', '1997', '1999', '2000']\n"
          ]
        }
      ]
    },
    {
      "cell_type": "code",
      "source": [
        "y = [2, 4,12, -7, 11, 6]"
      ],
      "metadata": {
        "id": "wMhaUiV-gr98"
      },
      "execution_count": 14,
      "outputs": []
    },
    {
      "cell_type": "code",
      "source": [
        "total=0\n",
        "for number in y:\n",
        "    total= total + number\n",
        "\n",
        "print(total)"
      ],
      "metadata": {
        "colab": {
          "base_uri": "https://localhost:8080/"
        },
        "id": "aojbozbOhA35",
        "outputId": "61fe62dc-3251-401c-cd6e-bb15916f0990"
      },
      "execution_count": 15,
      "outputs": [
        {
          "output_type": "stream",
          "name": "stdout",
          "text": [
            "28\n"
          ]
        }
      ]
    },
    {
      "cell_type": "code",
      "source": [
        "print(\"the size of the lengh\", len(y))"
      ],
      "metadata": {
        "colab": {
          "base_uri": "https://localhost:8080/"
        },
        "id": "oRFR7yzYhWNy",
        "outputId": "f2e0ae9f-0e80-42dd-dea2-331b8ca74da7"
      },
      "execution_count": 16,
      "outputs": [
        {
          "output_type": "stream",
          "name": "stdout",
          "text": [
            "the size of the lengh 6\n"
          ]
        }
      ]
    },
    {
      "cell_type": "code",
      "source": [
        "print(\"the ave of y is\", total/len(y))"
      ],
      "metadata": {
        "colab": {
          "base_uri": "https://localhost:8080/"
        },
        "id": "TMokKTXWhl9u",
        "outputId": "a9b413f3-2390-4946-c14a-23ced4bddb41"
      },
      "execution_count": 17,
      "outputs": [
        {
          "output_type": "stream",
          "name": "stdout",
          "text": [
            "the ave of y is 4.666666666666667\n"
          ]
        }
      ]
    },
    {
      "cell_type": "code",
      "source": [
        "years_list[0]"
      ],
      "metadata": {
        "colab": {
          "base_uri": "https://localhost:8080/",
          "height": 35
        },
        "id": "Ft05DCJ6hzn9",
        "outputId": "786250e3-954e-40c6-d946-992e9d457e94"
      },
      "execution_count": 18,
      "outputs": [
        {
          "output_type": "execute_result",
          "data": {
            "text/plain": [
              "'1/11/1997'"
            ],
            "application/vnd.google.colaboratory.intrinsic+json": {
              "type": "string"
            }
          },
          "metadata": {},
          "execution_count": 18
        }
      ]
    },
    {
      "cell_type": "code",
      "source": [
        "removed_one = years_list.pop(0) #to drop the particular item using index\n",
        "years_list"
      ],
      "metadata": {
        "colab": {
          "base_uri": "https://localhost:8080/"
        },
        "id": "oaU_KTxLj4Zk",
        "outputId": "da79aa92-eaba-44c9-92e0-b249076ec2f4"
      },
      "execution_count": 19,
      "outputs": [
        {
          "output_type": "execute_result",
          "data": {
            "text/plain": [
              "['1991',\n",
              " '2000',\n",
              " '1969',\n",
              " '1999',\n",
              " '1998',\n",
              " '1993',\n",
              " '1996',\n",
              " '1999',\n",
              " '1997',\n",
              " '1996',\n",
              " '1998',\n",
              " '1995',\n",
              " '1999',\n",
              " '1999',\n",
              " '1997',\n",
              " '1996',\n",
              " '1996',\n",
              " '1997',\n",
              " '1995',\n",
              " '1997',\n",
              " '1999',\n",
              " '2000']"
            ]
          },
          "metadata": {},
          "execution_count": 19
        }
      ]
    },
    {
      "cell_type": "code",
      "source": [
        "from datetime import date\n",
        "\n",
        "current_year = date.today().year\n",
        "print(current_year)\n",
        "total = 0\n",
        "for birthyear in years_list:\n",
        "    age= current_year - int(birthyear) \n",
        "    total+=age\n",
        "print(total)"
      ],
      "metadata": {
        "colab": {
          "base_uri": "https://localhost:8080/"
        },
        "id": "V16oQqeskLGU",
        "outputId": "bdbc04a8-b120-4834-89be-9d7a21300335"
      },
      "execution_count": 23,
      "outputs": [
        {
          "output_type": "stream",
          "name": "stdout",
          "text": [
            "2022\n",
            "578\n"
          ]
        }
      ]
    },
    {
      "cell_type": "code",
      "source": [
        "print(\"average age\", total/len(years_list))"
      ],
      "metadata": {
        "colab": {
          "base_uri": "https://localhost:8080/"
        },
        "id": "2wP4qxAkkdC4",
        "outputId": "503785bc-771e-43cb-cd16-b2ce30674168"
      },
      "execution_count": 24,
      "outputs": [
        {
          "output_type": "stream",
          "name": "stdout",
          "text": [
            "average age 26.272727272727273\n"
          ]
        }
      ]
    },
    {
      "cell_type": "markdown",
      "source": [
        "# Approach 2nd to handle 1/1/1991"
      ],
      "metadata": {
        "id": "ej7XgRsSsMt5"
      }
    },
    {
      "cell_type": "code",
      "source": [
        "years = \"1/11/1997 1991 2000 1969 1999 1998 1993 1996 1999 1997 1996 1998 1995 1999 1999 1997 1996 1996 1997 1995 1997 1999 2000\"\n",
        "print(\"birth year of student\", years) "
      ],
      "metadata": {
        "colab": {
          "base_uri": "https://localhost:8080/"
        },
        "id": "rALVgKE3sR1a",
        "outputId": "ce3db816-d241-4ff4-9eba-4f710d6dfa77"
      },
      "execution_count": 25,
      "outputs": [
        {
          "output_type": "stream",
          "name": "stdout",
          "text": [
            "birth year of student 1/11/1997 1991 2000 1969 1999 1998 1993 1996 1999 1997 1996 1998 1995 1999 1999 1997 1996 1996 1997 1995 1997 1999 2000\n"
          ]
        }
      ]
    },
    {
      "cell_type": "code",
      "source": [
        "years_list = years.split()\n",
        "print(years_list)"
      ],
      "metadata": {
        "colab": {
          "base_uri": "https://localhost:8080/"
        },
        "id": "spqFzV_Eskl1",
        "outputId": "096f7499-3a53-40ed-a1d9-b7d504df95e4"
      },
      "execution_count": 28,
      "outputs": [
        {
          "output_type": "stream",
          "name": "stdout",
          "text": [
            "['1/11/1997', '1991', '2000', '1969', '1999', '1998', '1993', '1996', '1999', '1997', '1996', '1998', '1995', '1999', '1999', '1997', '1996', '1996', '1997', '1995', '1997', '1999', '2000']\n"
          ]
        }
      ]
    },
    {
      "cell_type": "code",
      "source": [
        "years_list[0]=\"1997\""
      ],
      "metadata": {
        "id": "xj5hKCDKtl-v"
      },
      "execution_count": 29,
      "outputs": []
    },
    {
      "cell_type": "code",
      "source": [
        "from datetime import date\n",
        "\n",
        "current_year = date.today().year\n",
        "print(current_year)\n",
        "total = 0\n",
        "for birthyear in years_list:\n",
        "    age= current_year - int(birthyear) \n",
        "    total+=age\n",
        "print(total)"
      ],
      "metadata": {
        "colab": {
          "base_uri": "https://localhost:8080/"
        },
        "id": "NlYKMMw-tuTD",
        "outputId": "075c217f-5493-4b87-a21f-bec6f3b096a7"
      },
      "execution_count": 30,
      "outputs": [
        {
          "output_type": "stream",
          "name": "stdout",
          "text": [
            "2022\n",
            "603\n"
          ]
        }
      ]
    },
    {
      "cell_type": "code",
      "source": [
        "print(\"ave\", total/len(years_list))"
      ],
      "metadata": {
        "colab": {
          "base_uri": "https://localhost:8080/"
        },
        "id": "0pEDBttXty0l",
        "outputId": "1cda2a42-bbd5-4a4e-e585-9a959eb33884"
      },
      "execution_count": 31,
      "outputs": [
        {
          "output_type": "stream",
          "name": "stdout",
          "text": [
            "ave 26.217391304347824\n"
          ]
        }
      ]
    },
    {
      "cell_type": "markdown",
      "source": [
        "# approch 3 handling exception"
      ],
      "metadata": {
        "id": "jMnLkzO3uC83"
      }
    },
    {
      "cell_type": "code",
      "source": [
        "years = \"1/11/1997 1991 2000 1969 1999 1998 1993 1996 1999 1997 1996 1998 1995 1999 1999 1997 1996 1996 1997 1995 1997 1999 2000\"\n",
        "print(\"birth year of student\", years) "
      ],
      "metadata": {
        "colab": {
          "base_uri": "https://localhost:8080/"
        },
        "id": "PH3W4F8SuGim",
        "outputId": "cf59f0da-cb63-4d1a-968a-4355854b26af"
      },
      "execution_count": 39,
      "outputs": [
        {
          "output_type": "stream",
          "name": "stdout",
          "text": [
            "birth year of student 1/11/1997 1991 2000 1969 1999 1998 1993 1996 1999 1997 1996 1998 1995 1999 1999 1997 1996 1996 1997 1995 1997 1999 2000\n"
          ]
        }
      ]
    },
    {
      "cell_type": "code",
      "source": [
        "from datetime import date\n",
        "\n",
        "current_year = date.today().year\n",
        "print(current_year)\n",
        "total = 0\n",
        "count =0\n",
        "for birthyear in years_list:\n",
        "    try:\n",
        "      year_int= int(birthyear)\n",
        "    except:\n",
        "      continue\n",
        "    age= current_year - int(birthyear) \n",
        "\n",
        "   # if age>80 or age<10:\n",
        "   #   continue\n",
        "    if age>80:\n",
        "      print(\"skip\", age)\n",
        "      continue\n",
        "    elif age<10:\n",
        "      print(\"skip\",age)\n",
        "\n",
        "    total+=age\n",
        "    count+=1\n",
        "print(total)\n",
        "print(count)"
      ],
      "metadata": {
        "colab": {
          "base_uri": "https://localhost:8080/"
        },
        "id": "d82Pq3DrvaS2",
        "outputId": "4eb17474-edc2-4558-b093-9def5509cedb"
      },
      "execution_count": 46,
      "outputs": [
        {
          "output_type": "stream",
          "name": "stdout",
          "text": [
            "2022\n",
            "603\n",
            "23\n"
          ]
        }
      ]
    },
    {
      "cell_type": "code",
      "source": [],
      "metadata": {
        "id": "yssAH_cdzWu_"
      },
      "execution_count": null,
      "outputs": []
    },
    {
      "cell_type": "code",
      "source": [
        "print(\"ave\",total/count)"
      ],
      "metadata": {
        "colab": {
          "base_uri": "https://localhost:8080/"
        },
        "id": "WOBLPBy3wmIL",
        "outputId": "dd1bc180-f022-43ac-dd71-f90742ea6fdc"
      },
      "execution_count": 45,
      "outputs": [
        {
          "output_type": "stream",
          "name": "stdout",
          "text": [
            "ave 26.217391304347824\n"
          ]
        }
      ]
    },
    {
      "cell_type": "markdown",
      "source": [
        "#misc"
      ],
      "metadata": {
        "id": "cHWqIvLPzVDc"
      }
    },
    {
      "cell_type": "code",
      "source": [
        "count=0\n",
        "while True:\n",
        "  if count ==3:\n",
        "    break\n",
        "try:\n",
        "  x= int(input(\"Enter an integer\"))\n",
        "  count+=1\n",
        "except:\n",
        "  print(\"try again\")"
      ],
      "metadata": {
        "id": "n0tQeLgszZt1"
      },
      "execution_count": null,
      "outputs": []
    }
  ]
}