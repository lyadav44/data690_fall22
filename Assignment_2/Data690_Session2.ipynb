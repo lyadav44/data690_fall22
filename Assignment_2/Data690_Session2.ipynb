{
  "nbformat": 4,
  "nbformat_minor": 0,
  "metadata": {
    "colab": {
      "provenance": [],
      "authorship_tag": "ABX9TyODe6uLzqdgkdqdGeWdE6Xd",
      "include_colab_link": true
    },
    "kernelspec": {
      "name": "python3",
      "display_name": "Python 3"
    },
    "language_info": {
      "name": "python"
    }
  },
  "cells": [
    {
      "cell_type": "markdown",
      "metadata": {
        "id": "view-in-github",
        "colab_type": "text"
      },
      "source": [
        "<a href=\"https://colab.research.google.com/github/lyadav44/data690_fall22/blob/main/Assignment_2/Data690_Session2.ipynb\" target=\"_parent\"><img src=\"https://colab.research.google.com/assets/colab-badge.svg\" alt=\"Open In Colab\"/></a>"
      ]
    },
    {
      "cell_type": "markdown",
      "source": [
        "#Data690: Session 2  9/8/22\n"
      ],
      "metadata": {
        "id": "i2_pTEcHcluH"
      }
    },
    {
      "cell_type": "code",
      "source": [
        "years = \"1/11/1997 1991 2000 1969 1999 1998 1993 1996 1999 1997 1996 1998 1995 1999 1999 1997 1996 1996 1997 1995 1997 1999 2000\"\n",
        "print(\"birth year of student\", years) "
      ],
      "metadata": {
        "colab": {
          "base_uri": "https://localhost:8080/"
        },
        "id": "pb3HAriKck24",
        "outputId": "4e322db6-011a-4ef5-fc96-537852cb5dc9"
      },
      "execution_count": 10,
      "outputs": [
        {
          "output_type": "stream",
          "name": "stdout",
          "text": [
            "birth year of student 1/11/1997 1991 2000 1969 1999 1998 1993 1996 1999 1997 1996 1998 1995 1999 1999 1997 1996 1996 1997 1995 1997 1999 2000\n"
          ]
        }
      ]
    },
    {
      "cell_type": "code",
      "source": [
        "type(years) #to know type of the variable"
      ],
      "metadata": {
        "colab": {
          "base_uri": "https://localhost:8080/"
        },
        "id": "z4iBP0MWdjAM",
        "outputId": "4c4f56e9-050a-422f-aa1a-8a2852706c11"
      },
      "execution_count": 11,
      "outputs": [
        {
          "output_type": "execute_result",
          "data": {
            "text/plain": [
              "str"
            ]
          },
          "metadata": {},
          "execution_count": 11
        }
      ]
    },
    {
      "cell_type": "code",
      "source": [
        "years_list= years.split(\" \")\n"
      ],
      "metadata": {
        "id": "80bvdL_cgM-9"
      },
      "execution_count": 12,
      "outputs": []
    },
    {
      "cell_type": "code",
      "source": [
        "print(years_list)"
      ],
      "metadata": {
        "colab": {
          "base_uri": "https://localhost:8080/"
        },
        "id": "7WPfvPv2gnzD",
        "outputId": "95f9f0d9-c266-49ee-a4a2-9afbb0c95576"
      },
      "execution_count": 13,
      "outputs": [
        {
          "output_type": "stream",
          "name": "stdout",
          "text": [
            "['1/11/1997', '1991', '2000', '1969', '1999', '1998', '1993', '1996', '1999', '1997', '1996', '1998', '1995', '1999', '1999', '1997', '1996', '1996', '1997', '1995', '1997', '1999', '2000']\n"
          ]
        }
      ]
    },
    {
      "cell_type": "code",
      "source": [
        "y = [2, 4,12, -7, 11, 6]"
      ],
      "metadata": {
        "id": "wMhaUiV-gr98"
      },
      "execution_count": 14,
      "outputs": []
    },
    {
      "cell_type": "code",
      "source": [
        "total=0\n",
        "for number in y:\n",
        "    total= total + number\n",
        "\n",
        "print(total)"
      ],
      "metadata": {
        "colab": {
          "base_uri": "https://localhost:8080/"
        },
        "id": "aojbozbOhA35",
        "outputId": "61fe62dc-3251-401c-cd6e-bb15916f0990"
      },
      "execution_count": 15,
      "outputs": [
        {
          "output_type": "stream",
          "name": "stdout",
          "text": [
            "28\n"
          ]
        }
      ]
    },
    {
      "cell_type": "code",
      "source": [
        "print(\"the size of the lengh\", len(y))"
      ],
      "metadata": {
        "colab": {
          "base_uri": "https://localhost:8080/"
        },
        "id": "oRFR7yzYhWNy",
        "outputId": "f2e0ae9f-0e80-42dd-dea2-331b8ca74da7"
      },
      "execution_count": 16,
      "outputs": [
        {
          "output_type": "stream",
          "name": "stdout",
          "text": [
            "the size of the lengh 6\n"
          ]
        }
      ]
    },
    {
      "cell_type": "code",
      "source": [
        "print(\"the ave of y is\", total/len(y))"
      ],
      "metadata": {
        "colab": {
          "base_uri": "https://localhost:8080/"
        },
        "id": "TMokKTXWhl9u",
        "outputId": "a9b413f3-2390-4946-c14a-23ced4bddb41"
      },
      "execution_count": 17,
      "outputs": [
        {
          "output_type": "stream",
          "name": "stdout",
          "text": [
            "the ave of y is 4.666666666666667\n"
          ]
        }
      ]
    },
    {
      "cell_type": "code",
      "source": [
        "years_list[0]"
      ],
      "metadata": {
        "colab": {
          "base_uri": "https://localhost:8080/",
          "height": 35
        },
        "id": "Ft05DCJ6hzn9",
        "outputId": "786250e3-954e-40c6-d946-992e9d457e94"
      },
      "execution_count": 18,
      "outputs": [
        {
          "output_type": "execute_result",
          "data": {
            "text/plain": [
              "'1/11/1997'"
            ],
            "application/vnd.google.colaboratory.intrinsic+json": {
              "type": "string"
            }
          },
          "metadata": {},
          "execution_count": 18
        }
      ]
    },
    {
      "cell_type": "code",
      "source": [
        "removed_one = years_list.pop(0) #to drop the particular item using index\n",
        "years_list"
      ],
      "metadata": {
        "colab": {
          "base_uri": "https://localhost:8080/"
        },
        "id": "oaU_KTxLj4Zk",
        "outputId": "da79aa92-eaba-44c9-92e0-b249076ec2f4"
      },
      "execution_count": 19,
      "outputs": [
        {
          "output_type": "execute_result",
          "data": {
            "text/plain": [
              "['1991',\n",
              " '2000',\n",
              " '1969',\n",
              " '1999',\n",
              " '1998',\n",
              " '1993',\n",
              " '1996',\n",
              " '1999',\n",
              " '1997',\n",
              " '1996',\n",
              " '1998',\n",
              " '1995',\n",
              " '1999',\n",
              " '1999',\n",
              " '1997',\n",
              " '1996',\n",
              " '1996',\n",
              " '1997',\n",
              " '1995',\n",
              " '1997',\n",
              " '1999',\n",
              " '2000']"
            ]
          },
          "metadata": {},
          "execution_count": 19
        }
      ]
    },
    {
      "cell_type": "code",
      "source": [
        "from datetime import date\n",
        "\n",
        "current_year = date.today().year\n",
        "print(current_year)\n",
        "total = 0\n",
        "for birthyear in years_list:\n",
        "    age= current_year - int(birthyear) \n",
        "    total+=age\n",
        "print(total)"
      ],
      "metadata": {
        "colab": {
          "base_uri": "https://localhost:8080/"
        },
        "id": "V16oQqeskLGU",
        "outputId": "bdbc04a8-b120-4834-89be-9d7a21300335"
      },
      "execution_count": 23,
      "outputs": [
        {
          "output_type": "stream",
          "name": "stdout",
          "text": [
            "2022\n",
            "578\n"
          ]
        }
      ]
    },
    {
      "cell_type": "code",
      "source": [
        "print(\"average age\", total/len(years_list))"
      ],
      "metadata": {
        "colab": {
          "base_uri": "https://localhost:8080/"
        },
        "id": "2wP4qxAkkdC4",
        "outputId": "503785bc-771e-43cb-cd16-b2ce30674168"
      },
      "execution_count": 24,
      "outputs": [
        {
          "output_type": "stream",
          "name": "stdout",
          "text": [
            "average age 26.272727272727273\n"
          ]
        }
      ]
    }
  ]
}