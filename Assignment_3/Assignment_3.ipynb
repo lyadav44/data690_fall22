{
  "nbformat": 4,
  "nbformat_minor": 0,
  "metadata": {
    "colab": {
      "provenance": [],
      "authorship_tag": "ABX9TyNGKfBJ3w+CZFmYpBSs0g6U",
      "include_colab_link": true
    },
    "kernelspec": {
      "name": "python3",
      "display_name": "Python 3"
    },
    "language_info": {
      "name": "python"
    }
  },
  "cells": [
    {
      "cell_type": "markdown",
      "metadata": {
        "id": "view-in-github",
        "colab_type": "text"
      },
      "source": [
        "<a href=\"https://colab.research.google.com/github/lyadav44/data690_fall22/blob/main/Assignment_3/Assignment_3.ipynb\" target=\"_parent\"><img src=\"https://colab.research.google.com/assets/colab-badge.svg\" alt=\"Open In Colab\"/></a>"
      ]
    },
    {
      "cell_type": "markdown",
      "source": [
        "# Assigment 3\n",
        "  **Submitted by Laxmi Yadav(AP07297)**"
      ],
      "metadata": {
        "id": "1VIidv-SDQEo"
      }
    },
    {
      "cell_type": "code",
      "source": [
        "import random"
      ],
      "metadata": {
        "id": "K7IDOXKyVAV8"
      },
      "execution_count": 4,
      "outputs": []
    },
    {
      "cell_type": "markdown",
      "source": [],
      "metadata": {
        "id": "fkkj7kkuDQBq"
      }
    },
    {
      "cell_type": "markdown",
      "source": [
        "- Write a program that generates 100 random integers between 0 and 9.\n",
        "\n",
        " Print them in a 10 by 10 matrix neatly arranged like the following (one space between each number):"
      ],
      "metadata": {
        "id": "O-ScRJTfoI0M"
      }
    },
    {
      "cell_type": "code",
      "source": [
        "size=10"
      ],
      "metadata": {
        "id": "QBScu2lifOf8"
      },
      "execution_count": 5,
      "outputs": []
    },
    {
      "cell_type": "code",
      "execution_count": 6,
      "metadata": {
        "colab": {
          "base_uri": "https://localhost:8080/"
        },
        "id": "Ahok2u9ii-63",
        "outputId": "4931b835-01b8-40ba-e326-6af84682e49f"
      },
      "outputs": [
        {
          "output_type": "stream",
          "name": "stdout",
          "text": [
            "3 7 5 0 2 3 9 6 8 5 \n",
            "\n",
            "0 7 3 0 0 7 5 4 9 1 \n",
            "\n",
            "8 2 6 2 0 4 7 2 0 6 \n",
            "\n",
            "3 8 4 2 3 4 9 1 9 5 \n",
            "\n",
            "4 5 2 7 9 0 3 2 7 9 \n",
            "\n",
            "5 3 3 1 4 9 1 0 8 2 \n",
            "\n",
            "1 1 4 0 8 7 7 0 9 2 \n",
            "\n",
            "3 9 3 9 9 2 8 3 6 2 \n",
            "\n",
            "1 2 4 0 4 5 5 6 1 6 \n",
            "\n",
            "5 1 2 0 0 7 2 8 8 6 \n",
            "\n"
          ]
        }
      ],
      "source": [
        "for i in range(size):\n",
        "  for j in range(size):\n",
        "    print(random.randint(0,9), end=\" \")\n",
        "  print(\"\\n\")"
      ]
    },
    {
      "cell_type": "markdown",
      "source": [
        "- If the random number is an odd number, print \"@\" instead. like the following:"
      ],
      "metadata": {
        "id": "M3A7ED33oQD_"
      }
    },
    {
      "cell_type": "code",
      "source": [
        "for i in range(size):\n",
        "  for j in range(size):\n",
        "    num=random.randint(0,9)\n",
        "    if(num%2==0):\n",
        "      print(num, end=\" \")\n",
        "    else:\n",
        "      print(\"@\", end=\" \")\n",
        "  print(\"\\n\")"
      ],
      "metadata": {
        "colab": {
          "base_uri": "https://localhost:8080/"
        },
        "id": "TX8m4KUvoVlt",
        "outputId": "ffb57bf2-49b7-48db-e864-4096f9c5133b"
      },
      "execution_count": 7,
      "outputs": [
        {
          "output_type": "stream",
          "name": "stdout",
          "text": [
            "6 @ 0 @ 6 @ 8 @ @ 4 \n",
            "\n",
            "@ @ @ @ @ @ @ @ 2 @ \n",
            "\n",
            "0 6 6 @ 4 @ @ @ @ @ \n",
            "\n",
            "2 @ @ @ 8 @ @ @ 0 2 \n",
            "\n",
            "@ @ 6 0 @ @ @ 8 @ 0 \n",
            "\n",
            "8 @ 8 @ 4 8 4 @ @ 8 \n",
            "\n",
            "@ 2 8 @ @ @ 6 6 6 @ \n",
            "\n",
            "0 8 @ @ 4 @ @ @ @ 4 \n",
            "\n",
            "@ 2 4 @ 4 @ 8 @ @ @ \n",
            "\n",
            "@ @ 6 8 @ 4 @ 8 6 4 \n",
            "\n"
          ]
        }
      ]
    },
    {
      "cell_type": "markdown",
      "source": [
        "- Calculate and Print the total of each row like the following (use \"*\" to separate the total from the numbers):"
      ],
      "metadata": {
        "id": "f0OW4OnKp_ED"
      }
    },
    {
      "cell_type": "code",
      "source": [
        "sum=0\n",
        "for i in range(size):\n",
        "  for j in range(size):\n",
        "    rd= random.randint(0,9)\n",
        "    sum=sum+ rd\n",
        "    print(rd, end=\" \")\n",
        "  print(\"*\",str(sum))\n"
      ],
      "metadata": {
        "colab": {
          "base_uri": "https://localhost:8080/"
        },
        "id": "mS5ElpStqdsL",
        "outputId": "17851344-8f77-4335-e98e-f2cbfb44cff4"
      },
      "execution_count": 8,
      "outputs": [
        {
          "output_type": "stream",
          "name": "stdout",
          "text": [
            "4 8 8 8 4 5 8 0 4 0 * 49\n",
            "1 5 9 0 9 6 7 1 6 9 * 102\n",
            "1 5 7 8 5 6 8 1 6 8 * 157\n",
            "0 8 5 9 8 5 3 6 4 3 * 208\n",
            "1 4 1 7 0 1 4 1 2 0 * 229\n",
            "5 4 9 3 1 3 7 7 1 2 * 271\n",
            "1 8 0 0 8 8 2 9 0 1 * 308\n",
            "8 5 1 8 8 6 2 3 2 8 * 359\n",
            "7 2 6 7 8 2 2 2 1 5 * 401\n",
            "3 1 2 5 3 2 2 5 1 8 * 433\n"
          ]
        }
      ]
    },
    {
      "cell_type": "markdown",
      "source": [
        "- Surround the matrix with asterisks (*) like the following:"
      ],
      "metadata": {
        "id": "cllWsAL2XsdB"
      }
    },
    {
      "cell_type": "code",
      "source": [
        "print(\"***********************\")\n",
        "for i in range(size): \n",
        "  print(\"*\", end=\" \")\n",
        "  for j in range(size):\n",
        "   print(random.randint(0,9), end=\" \")\n",
        "  print(\"*\")\n",
        "print(\"***********************\")\n"
      ],
      "metadata": {
        "colab": {
          "base_uri": "https://localhost:8080/"
        },
        "id": "F7d0UHTcXz_S",
        "outputId": "6024192d-df03-4365-fb65-87c0a68316c6"
      },
      "execution_count": 12,
      "outputs": [
        {
          "output_type": "stream",
          "name": "stdout",
          "text": [
            "***********************\n",
            "* 2 2 9 5 9 6 4 8 2 1 *\n",
            "* 1 6 4 3 2 1 3 5 9 4 *\n",
            "* 6 4 1 6 4 2 3 0 8 1 *\n",
            "* 5 1 6 9 5 8 8 1 7 5 *\n",
            "* 5 7 0 1 6 6 6 8 4 8 *\n",
            "* 9 0 0 6 5 0 7 0 5 1 *\n",
            "* 4 7 6 2 6 9 7 4 5 5 *\n",
            "* 2 8 9 1 0 6 4 6 2 0 *\n",
            "* 6 3 1 8 7 6 1 8 2 6 *\n",
            "* 4 7 6 1 9 6 7 6 2 2 *\n",
            "***********************\n"
          ]
        }
      ]
    },
    {
      "cell_type": "markdown",
      "source": [
        "- Calculate and Print the total of each row and column like the following:"
      ],
      "metadata": {
        "id": "Pw2gEZGcg6nK"
      }
    },
    {
      "cell_type": "code",
      "source": [
        "sum = 0\n",
        "list = []\n",
        "for i in range(size):\n",
        "    ls = []\n",
        "    sum = 0\n",
        "    for j in range(size):\n",
        "        rd = random.randint(0,9)\n",
        "        sum = sum + rd\n",
        "        ls.append(rd)\n",
        "        print(rd, end = ' '*2)\n",
        "    print(\"*\", sum)\n",
        "    list.append(ls)\n",
        "# print(list)\n",
        "#transpose the matrix to print the sum for the column\n",
        "trans = []\n",
        "for i in range(len(list[0])):\n",
        "    row = []\n",
        "    for sublist in list:\n",
        "        row.append(sublist[i])\n",
        "    trans.append(row)\n",
        "# print(trans)\n",
        "for i in range(size):\n",
        "    print(\"*\", end = ' '*2)\n",
        "print(' ')\n",
        "for i in range(len(trans[0])):\n",
        "    s1 = 0\n",
        "    for j in trans[i]:\n",
        "        s1 = s1 + j\n",
        "    print(s1, end = ' ')"
      ],
      "metadata": {
        "colab": {
          "base_uri": "https://localhost:8080/"
        },
        "id": "WsQgjzK0g84m",
        "outputId": "f957b134-eab9-422e-c60f-5b135b4f1c8a"
      },
      "execution_count": 24,
      "outputs": [
        {
          "output_type": "stream",
          "name": "stdout",
          "text": [
            "5  2  1  7  2  6  1  3  2  8  * 37\n",
            "0  2  6  1  8  3  5  6  7  6  * 44\n",
            "9  0  3  1  1  5  0  0  2  7  * 28\n",
            "2  4  4  2  2  7  3  4  5  1  * 34\n",
            "1  3  6  6  1  3  7  9  1  4  * 41\n",
            "3  5  5  7  0  6  5  7  9  0  * 47\n",
            "8  5  9  6  1  6  3  7  1  3  * 49\n",
            "4  7  8  8  4  5  2  0  7  9  * 54\n",
            "2  7  0  9  5  9  2  8  5  4  * 51\n",
            "6  8  3  1  0  0  6  1  5  3  * 33\n",
            "*  *  *  *  *  *  *  *  *  *   \n",
            "40 43 45 48 24 50 34 45 44 45 "
          ]
        }
      ]
    }
  ]
}