{
  "nbformat": 4,
  "nbformat_minor": 0,
  "metadata": {
    "colab": {
      "provenance": [],
      "authorship_tag": "ABX9TyNyE+l826bb0+oAFIakEt1u",
      "include_colab_link": true
    },
    "kernelspec": {
      "name": "python3",
      "display_name": "Python 3"
    },
    "language_info": {
      "name": "python"
    }
  },
  "cells": [
    {
      "cell_type": "markdown",
      "metadata": {
        "id": "view-in-github",
        "colab_type": "text"
      },
      "source": [
        "<a href=\"https://colab.research.google.com/github/lyadav44/data690_fall22/blob/main/Assignment_3/Assignment_3.ipynb\" target=\"_parent\"><img src=\"https://colab.research.google.com/assets/colab-badge.svg\" alt=\"Open In Colab\"/></a>"
      ]
    },
    {
      "cell_type": "markdown",
      "source": [
        "# Assigment 3\n",
        "  **Submitted by Laxmi Yadav(AP07297)**"
      ],
      "metadata": {
        "id": "1VIidv-SDQEo"
      }
    },
    {
      "cell_type": "code",
      "source": [
        "import random"
      ],
      "metadata": {
        "id": "K7IDOXKyVAV8"
      },
      "execution_count": 2,
      "outputs": []
    },
    {
      "cell_type": "markdown",
      "source": [],
      "metadata": {
        "id": "fkkj7kkuDQBq"
      }
    },
    {
      "cell_type": "markdown",
      "source": [
        "- Write a program that generates 100 random integers between 0 and 9.\n",
        "\n",
        " Print them in a 10 by 10 matrix neatly arranged like the following (one space between each number):"
      ],
      "metadata": {
        "id": "O-ScRJTfoI0M"
      }
    },
    {
      "cell_type": "code",
      "source": [
        "size=10"
      ],
      "metadata": {
        "id": "QBScu2lifOf8"
      },
      "execution_count": 3,
      "outputs": []
    },
    {
      "cell_type": "code",
      "execution_count": 4,
      "metadata": {
        "colab": {
          "base_uri": "https://localhost:8080/"
        },
        "id": "Ahok2u9ii-63",
        "outputId": "e0032d26-85e9-40e9-dcd2-a5800df29bf3"
      },
      "outputs": [
        {
          "output_type": "stream",
          "name": "stdout",
          "text": [
            "9 3 1 8 0 0 9 9 5 2 \n",
            "\n",
            "0 1 1 3 5 8 4 8 1 9 \n",
            "\n",
            "8 6 7 7 8 2 7 5 3 6 \n",
            "\n",
            "8 9 5 1 8 9 1 3 1 6 \n",
            "\n",
            "8 8 2 4 8 7 7 1 7 8 \n",
            "\n",
            "0 6 4 3 8 1 0 0 3 3 \n",
            "\n",
            "9 3 8 8 4 7 6 3 4 2 \n",
            "\n",
            "1 3 5 6 7 1 8 3 1 3 \n",
            "\n",
            "2 8 4 0 9 9 2 2 1 8 \n",
            "\n",
            "1 8 8 7 1 6 6 1 1 3 \n",
            "\n"
          ]
        }
      ],
      "source": [
        "for i in range(size):\n",
        "  for j in range(size):\n",
        "    print(random.randint(0,9), end=\" \")\n",
        "  print(\"\\n\")"
      ]
    },
    {
      "cell_type": "markdown",
      "source": [
        "- If the random number is an odd number, print \"@\" instead. like the following:"
      ],
      "metadata": {
        "id": "M3A7ED33oQD_"
      }
    },
    {
      "cell_type": "code",
      "source": [
        "for i in range(size):\n",
        "  for j in range(size):\n",
        "    num=random.randint(0,9)\n",
        "    if(num%2==0):\n",
        "      print(num, end=\" \")\n",
        "    else:\n",
        "      print(\"@\", end=\" \")\n",
        "  print(\"\\n\")"
      ],
      "metadata": {
        "colab": {
          "base_uri": "https://localhost:8080/"
        },
        "id": "TX8m4KUvoVlt",
        "outputId": "4a0c0bbe-9120-4808-d4e2-d0df87c9f125"
      },
      "execution_count": 5,
      "outputs": [
        {
          "output_type": "stream",
          "name": "stdout",
          "text": [
            "@ 0 2 @ 8 @ @ 4 @ 4 \n",
            "\n",
            "@ @ @ @ 8 2 @ @ @ @ \n",
            "\n",
            "8 @ @ 2 @ 8 @ @ 4 8 \n",
            "\n",
            "0 4 0 6 @ 6 0 4 4 @ \n",
            "\n",
            "4 @ 8 @ 2 4 @ 6 @ 6 \n",
            "\n",
            "@ @ 8 6 4 0 @ 0 @ @ \n",
            "\n",
            "0 @ 6 @ 4 2 0 @ @ @ \n",
            "\n",
            "@ @ @ @ @ @ @ @ 4 @ \n",
            "\n",
            "@ @ @ @ @ @ 6 4 @ 6 \n",
            "\n",
            "4 @ @ 8 6 @ @ @ 0 @ \n",
            "\n"
          ]
        }
      ]
    },
    {
      "cell_type": "markdown",
      "source": [
        "- Calculate and Print the total of each row like the following (use \"*\" to separate the total from the numbers):"
      ],
      "metadata": {
        "id": "f0OW4OnKp_ED"
      }
    },
    {
      "cell_type": "code",
      "source": [
        "\n",
        "for i in range(size):\n",
        "  sum=0\n",
        "  for j in range(size):\n",
        "    rd= random.randint(0,9)\n",
        "    sum=sum+ rd\n",
        "    print(rd, end=\" \")\n",
        "  print(\"*\",sum)\n"
      ],
      "metadata": {
        "colab": {
          "base_uri": "https://localhost:8080/"
        },
        "id": "mS5ElpStqdsL",
        "outputId": "71c4778f-12cd-4b50-c70e-9959a8abdbf2"
      },
      "execution_count": 13,
      "outputs": [
        {
          "output_type": "stream",
          "name": "stdout",
          "text": [
            "6 2 3 5 9 7 2 4 9 0 * 47\n",
            "7 1 4 4 5 2 3 1 0 9 * 36\n",
            "5 0 8 9 3 8 8 2 6 0 * 49\n",
            "1 9 3 7 7 6 0 8 0 5 * 46\n",
            "1 6 9 6 8 9 6 0 9 9 * 63\n",
            "7 3 2 7 1 3 9 6 1 9 * 48\n",
            "8 7 4 9 5 2 0 8 9 9 * 61\n",
            "5 3 3 4 3 0 9 7 2 5 * 41\n",
            "9 3 4 8 9 2 5 1 8 9 * 58\n",
            "5 1 6 1 5 7 6 0 4 9 * 44\n"
          ]
        }
      ]
    },
    {
      "cell_type": "markdown",
      "source": [
        "- Surround the matrix with asterisks (*) like the following:"
      ],
      "metadata": {
        "id": "cllWsAL2XsdB"
      }
    },
    {
      "cell_type": "code",
      "source": [
        "print(\"***********************\")\n",
        "for i in range(size): \n",
        "  print(\"*\", end=\" \")\n",
        "  for j in range(size):\n",
        "   print(random.randint(0,9), end=\" \")\n",
        "  print(\"*\")\n",
        "print(\"***********************\")\n"
      ],
      "metadata": {
        "colab": {
          "base_uri": "https://localhost:8080/"
        },
        "id": "F7d0UHTcXz_S",
        "outputId": "ef677797-ec0b-4b1d-821f-198acd8b6cc2"
      },
      "execution_count": 6,
      "outputs": [
        {
          "output_type": "stream",
          "name": "stdout",
          "text": [
            "***********************\n",
            "* 8 1 1 0 2 2 2 3 7 0 *\n",
            "* 1 3 4 3 0 8 6 2 6 5 *\n",
            "* 4 4 3 8 3 8 0 7 5 7 *\n",
            "* 3 3 4 3 7 7 7 5 0 2 *\n",
            "* 1 5 0 9 8 7 5 7 9 9 *\n",
            "* 6 8 3 3 3 3 8 8 6 1 *\n",
            "* 8 6 9 6 8 2 7 2 2 5 *\n",
            "* 9 6 4 5 9 2 7 0 3 7 *\n",
            "* 1 9 0 5 4 7 9 1 1 8 *\n",
            "* 5 9 6 4 8 5 1 1 6 0 *\n",
            "***********************\n"
          ]
        }
      ]
    },
    {
      "cell_type": "markdown",
      "source": [
        "- Calculate and Print the total of each row and column like the following:"
      ],
      "metadata": {
        "id": "Pw2gEZGcg6nK"
      }
    },
    {
      "cell_type": "code",
      "source": [
        "sum = 0\n",
        "list = []\n",
        "for i in range(size):\n",
        "    ls = []\n",
        "    sum = 0\n",
        "    for j in range(size):\n",
        "        rd = random.randint(0,9)\n",
        "        sum = sum + rd\n",
        "        ls.append(rd)\n",
        "        print(rd, end = ' '*2)\n",
        "    print(\"*\", sum)\n",
        "    list.append(ls)\n",
        "# print(list)\n",
        "#transpose the matrix to print the sum for the column\n",
        "trans = []\n",
        "for i in range(len(list[0])):\n",
        "    row = []\n",
        "    for sublist in list:\n",
        "        row.append(sublist[i])\n",
        "    trans.append(row)\n",
        "# print(trans)\n",
        "for i in range(size):\n",
        "    print(\"*\", end = ' '*2)\n",
        "print(' ')\n",
        "for i in range(len(trans[0])):\n",
        "    s1 = 0\n",
        "    for j in trans[i]:\n",
        "        s1 = s1 + j\n",
        "    print(s1, end = ' ')"
      ],
      "metadata": {
        "colab": {
          "base_uri": "https://localhost:8080/"
        },
        "id": "WsQgjzK0g84m",
        "outputId": "7b4203dc-b8a6-49b5-cfea-4d2a6ce2e941"
      },
      "execution_count": 7,
      "outputs": [
        {
          "output_type": "stream",
          "name": "stdout",
          "text": [
            "7  5  6  1  0  7  4  6  5  3  * 44\n",
            "4  8  0  6  3  0  8  3  1  3  * 36\n",
            "1  6  2  5  9  0  2  0  1  7  * 33\n",
            "1  2  3  1  0  2  6  1  5  1  * 22\n",
            "4  1  3  0  1  9  1  8  0  2  * 29\n",
            "4  5  3  9  0  6  9  5  2  2  * 45\n",
            "2  8  5  0  3  6  5  1  9  5  * 44\n",
            "9  3  4  9  8  8  9  7  5  6  * 68\n",
            "4  0  1  1  2  0  4  9  3  4  * 28\n",
            "0  6  3  2  4  0  4  0  1  6  * 26\n",
            "*  *  *  *  *  *  *  *  *  *   \n",
            "36 44 30 34 30 38 52 40 32 39 "
          ]
        }
      ]
    }
  ]
}