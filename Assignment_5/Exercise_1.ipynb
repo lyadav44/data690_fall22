{
  "nbformat": 4,
  "nbformat_minor": 0,
  "metadata": {
    "colab": {
      "provenance": [],
      "authorship_tag": "ABX9TyOMFH8kEMCJtm45cNUR+1wk",
      "include_colab_link": true
    },
    "kernelspec": {
      "name": "python3",
      "display_name": "Python 3"
    },
    "language_info": {
      "name": "python"
    }
  },
  "cells": [
    {
      "cell_type": "markdown",
      "metadata": {
        "id": "view-in-github",
        "colab_type": "text"
      },
      "source": [
        "<a href=\"https://colab.research.google.com/github/lyadav44/data690_fall22/blob/main/Assignment_5/Exercise_1.ipynb\" target=\"_parent\"><img src=\"https://colab.research.google.com/assets/colab-badge.svg\" alt=\"Open In Colab\"/></a>"
      ]
    },
    {
      "cell_type": "code",
      "execution_count": 1,
      "metadata": {
        "id": "m1B-WBFzgRBt"
      },
      "outputs": [],
      "source": [
        "import numpy as np\n",
        "import pandas as pd\n",
        "import matplotlib.pyplot as plt\n",
        "\n",
        "%matplotlib inline"
      ]
    },
    {
      "cell_type": "code",
      "source": [
        "sales = pd.read_csv(\n",
        "    'sales_data.csv',\n",
        "    parse_dates=['Date'])"
      ],
      "metadata": {
        "id": "SPL7inwQgY_v"
      },
      "execution_count": 3,
      "outputs": []
    },
    {
      "cell_type": "code",
      "source": [
        "sales.head()"
      ],
      "metadata": {
        "colab": {
          "base_uri": "https://localhost:8080/",
          "height": 444
        },
        "id": "eRC3TPPSggjq",
        "outputId": "e7386b98-bfc3-43cd-b28f-543f1d77bbdb"
      },
      "execution_count": 4,
      "outputs": [
        {
          "output_type": "execute_result",
          "data": {
            "text/plain": [
              "        Date  Day     Month  Year  Customer_Age       Age_Group  \\\n",
              "0 2013-11-26   26  November  2013            19     Youth (<25)   \n",
              "1 2015-11-26   26  November  2015            19     Youth (<25)   \n",
              "2 2014-03-23   23     March  2014            49  Adults (35-64)   \n",
              "3 2016-03-23   23     March  2016            49  Adults (35-64)   \n",
              "4 2014-05-15   15       May  2014            47  Adults (35-64)   \n",
              "\n",
              "  Customer_Gender    Country             State Product_Category Sub_Category  \\\n",
              "0               M     Canada  British Columbia      Accessories   Bike Racks   \n",
              "1               M     Canada  British Columbia      Accessories   Bike Racks   \n",
              "2               M  Australia   New South Wales      Accessories   Bike Racks   \n",
              "3               M  Australia   New South Wales      Accessories   Bike Racks   \n",
              "4               F  Australia   New South Wales      Accessories   Bike Racks   \n",
              "\n",
              "               Product  Order_Quantity  Unit_Cost  Unit_Price  Profit  Cost  \\\n",
              "0  Hitch Rack - 4-Bike               8         45         120     590   360   \n",
              "1  Hitch Rack - 4-Bike               8         45         120     590   360   \n",
              "2  Hitch Rack - 4-Bike              23         45         120    1366  1035   \n",
              "3  Hitch Rack - 4-Bike              20         45         120    1188   900   \n",
              "4  Hitch Rack - 4-Bike               4         45         120     238   180   \n",
              "\n",
              "   Revenue  \n",
              "0    950.0  \n",
              "1    950.0  \n",
              "2   2401.0  \n",
              "3   2088.0  \n",
              "4    418.0  "
            ],
            "text/html": [
              "\n",
              "  <div id=\"df-36f6a613-4528-4521-8e84-b43b0bfec3d5\">\n",
              "    <div class=\"colab-df-container\">\n",
              "      <div>\n",
              "<style scoped>\n",
              "    .dataframe tbody tr th:only-of-type {\n",
              "        vertical-align: middle;\n",
              "    }\n",
              "\n",
              "    .dataframe tbody tr th {\n",
              "        vertical-align: top;\n",
              "    }\n",
              "\n",
              "    .dataframe thead th {\n",
              "        text-align: right;\n",
              "    }\n",
              "</style>\n",
              "<table border=\"1\" class=\"dataframe\">\n",
              "  <thead>\n",
              "    <tr style=\"text-align: right;\">\n",
              "      <th></th>\n",
              "      <th>Date</th>\n",
              "      <th>Day</th>\n",
              "      <th>Month</th>\n",
              "      <th>Year</th>\n",
              "      <th>Customer_Age</th>\n",
              "      <th>Age_Group</th>\n",
              "      <th>Customer_Gender</th>\n",
              "      <th>Country</th>\n",
              "      <th>State</th>\n",
              "      <th>Product_Category</th>\n",
              "      <th>Sub_Category</th>\n",
              "      <th>Product</th>\n",
              "      <th>Order_Quantity</th>\n",
              "      <th>Unit_Cost</th>\n",
              "      <th>Unit_Price</th>\n",
              "      <th>Profit</th>\n",
              "      <th>Cost</th>\n",
              "      <th>Revenue</th>\n",
              "    </tr>\n",
              "  </thead>\n",
              "  <tbody>\n",
              "    <tr>\n",
              "      <th>0</th>\n",
              "      <td>2013-11-26</td>\n",
              "      <td>26</td>\n",
              "      <td>November</td>\n",
              "      <td>2013</td>\n",
              "      <td>19</td>\n",
              "      <td>Youth (&lt;25)</td>\n",
              "      <td>M</td>\n",
              "      <td>Canada</td>\n",
              "      <td>British Columbia</td>\n",
              "      <td>Accessories</td>\n",
              "      <td>Bike Racks</td>\n",
              "      <td>Hitch Rack - 4-Bike</td>\n",
              "      <td>8</td>\n",
              "      <td>45</td>\n",
              "      <td>120</td>\n",
              "      <td>590</td>\n",
              "      <td>360</td>\n",
              "      <td>950.0</td>\n",
              "    </tr>\n",
              "    <tr>\n",
              "      <th>1</th>\n",
              "      <td>2015-11-26</td>\n",
              "      <td>26</td>\n",
              "      <td>November</td>\n",
              "      <td>2015</td>\n",
              "      <td>19</td>\n",
              "      <td>Youth (&lt;25)</td>\n",
              "      <td>M</td>\n",
              "      <td>Canada</td>\n",
              "      <td>British Columbia</td>\n",
              "      <td>Accessories</td>\n",
              "      <td>Bike Racks</td>\n",
              "      <td>Hitch Rack - 4-Bike</td>\n",
              "      <td>8</td>\n",
              "      <td>45</td>\n",
              "      <td>120</td>\n",
              "      <td>590</td>\n",
              "      <td>360</td>\n",
              "      <td>950.0</td>\n",
              "    </tr>\n",
              "    <tr>\n",
              "      <th>2</th>\n",
              "      <td>2014-03-23</td>\n",
              "      <td>23</td>\n",
              "      <td>March</td>\n",
              "      <td>2014</td>\n",
              "      <td>49</td>\n",
              "      <td>Adults (35-64)</td>\n",
              "      <td>M</td>\n",
              "      <td>Australia</td>\n",
              "      <td>New South Wales</td>\n",
              "      <td>Accessories</td>\n",
              "      <td>Bike Racks</td>\n",
              "      <td>Hitch Rack - 4-Bike</td>\n",
              "      <td>23</td>\n",
              "      <td>45</td>\n",
              "      <td>120</td>\n",
              "      <td>1366</td>\n",
              "      <td>1035</td>\n",
              "      <td>2401.0</td>\n",
              "    </tr>\n",
              "    <tr>\n",
              "      <th>3</th>\n",
              "      <td>2016-03-23</td>\n",
              "      <td>23</td>\n",
              "      <td>March</td>\n",
              "      <td>2016</td>\n",
              "      <td>49</td>\n",
              "      <td>Adults (35-64)</td>\n",
              "      <td>M</td>\n",
              "      <td>Australia</td>\n",
              "      <td>New South Wales</td>\n",
              "      <td>Accessories</td>\n",
              "      <td>Bike Racks</td>\n",
              "      <td>Hitch Rack - 4-Bike</td>\n",
              "      <td>20</td>\n",
              "      <td>45</td>\n",
              "      <td>120</td>\n",
              "      <td>1188</td>\n",
              "      <td>900</td>\n",
              "      <td>2088.0</td>\n",
              "    </tr>\n",
              "    <tr>\n",
              "      <th>4</th>\n",
              "      <td>2014-05-15</td>\n",
              "      <td>15</td>\n",
              "      <td>May</td>\n",
              "      <td>2014</td>\n",
              "      <td>47</td>\n",
              "      <td>Adults (35-64)</td>\n",
              "      <td>F</td>\n",
              "      <td>Australia</td>\n",
              "      <td>New South Wales</td>\n",
              "      <td>Accessories</td>\n",
              "      <td>Bike Racks</td>\n",
              "      <td>Hitch Rack - 4-Bike</td>\n",
              "      <td>4</td>\n",
              "      <td>45</td>\n",
              "      <td>120</td>\n",
              "      <td>238</td>\n",
              "      <td>180</td>\n",
              "      <td>418.0</td>\n",
              "    </tr>\n",
              "  </tbody>\n",
              "</table>\n",
              "</div>\n",
              "      <button class=\"colab-df-convert\" onclick=\"convertToInteractive('df-36f6a613-4528-4521-8e84-b43b0bfec3d5')\"\n",
              "              title=\"Convert this dataframe to an interactive table.\"\n",
              "              style=\"display:none;\">\n",
              "        \n",
              "  <svg xmlns=\"http://www.w3.org/2000/svg\" height=\"24px\"viewBox=\"0 0 24 24\"\n",
              "       width=\"24px\">\n",
              "    <path d=\"M0 0h24v24H0V0z\" fill=\"none\"/>\n",
              "    <path d=\"M18.56 5.44l.94 2.06.94-2.06 2.06-.94-2.06-.94-.94-2.06-.94 2.06-2.06.94zm-11 1L8.5 8.5l.94-2.06 2.06-.94-2.06-.94L8.5 2.5l-.94 2.06-2.06.94zm10 10l.94 2.06.94-2.06 2.06-.94-2.06-.94-.94-2.06-.94 2.06-2.06.94z\"/><path d=\"M17.41 7.96l-1.37-1.37c-.4-.4-.92-.59-1.43-.59-.52 0-1.04.2-1.43.59L10.3 9.45l-7.72 7.72c-.78.78-.78 2.05 0 2.83L4 21.41c.39.39.9.59 1.41.59.51 0 1.02-.2 1.41-.59l7.78-7.78 2.81-2.81c.8-.78.8-2.07 0-2.86zM5.41 20L4 18.59l7.72-7.72 1.47 1.35L5.41 20z\"/>\n",
              "  </svg>\n",
              "      </button>\n",
              "      \n",
              "  <style>\n",
              "    .colab-df-container {\n",
              "      display:flex;\n",
              "      flex-wrap:wrap;\n",
              "      gap: 12px;\n",
              "    }\n",
              "\n",
              "    .colab-df-convert {\n",
              "      background-color: #E8F0FE;\n",
              "      border: none;\n",
              "      border-radius: 50%;\n",
              "      cursor: pointer;\n",
              "      display: none;\n",
              "      fill: #1967D2;\n",
              "      height: 32px;\n",
              "      padding: 0 0 0 0;\n",
              "      width: 32px;\n",
              "    }\n",
              "\n",
              "    .colab-df-convert:hover {\n",
              "      background-color: #E2EBFA;\n",
              "      box-shadow: 0px 1px 2px rgba(60, 64, 67, 0.3), 0px 1px 3px 1px rgba(60, 64, 67, 0.15);\n",
              "      fill: #174EA6;\n",
              "    }\n",
              "\n",
              "    [theme=dark] .colab-df-convert {\n",
              "      background-color: #3B4455;\n",
              "      fill: #D2E3FC;\n",
              "    }\n",
              "\n",
              "    [theme=dark] .colab-df-convert:hover {\n",
              "      background-color: #434B5C;\n",
              "      box-shadow: 0px 1px 3px 1px rgba(0, 0, 0, 0.15);\n",
              "      filter: drop-shadow(0px 1px 2px rgba(0, 0, 0, 0.3));\n",
              "      fill: #FFFFFF;\n",
              "    }\n",
              "  </style>\n",
              "\n",
              "      <script>\n",
              "        const buttonEl =\n",
              "          document.querySelector('#df-36f6a613-4528-4521-8e84-b43b0bfec3d5 button.colab-df-convert');\n",
              "        buttonEl.style.display =\n",
              "          google.colab.kernel.accessAllowed ? 'block' : 'none';\n",
              "\n",
              "        async function convertToInteractive(key) {\n",
              "          const element = document.querySelector('#df-36f6a613-4528-4521-8e84-b43b0bfec3d5');\n",
              "          const dataTable =\n",
              "            await google.colab.kernel.invokeFunction('convertToInteractive',\n",
              "                                                     [key], {});\n",
              "          if (!dataTable) return;\n",
              "\n",
              "          const docLinkHtml = 'Like what you see? Visit the ' +\n",
              "            '<a target=\"_blank\" href=https://colab.research.google.com/notebooks/data_table.ipynb>data table notebook</a>'\n",
              "            + ' to learn more about interactive tables.';\n",
              "          element.innerHTML = '';\n",
              "          dataTable['output_type'] = 'display_data';\n",
              "          await google.colab.output.renderOutput(dataTable, element);\n",
              "          const docLink = document.createElement('div');\n",
              "          docLink.innerHTML = docLinkHtml;\n",
              "          element.appendChild(docLink);\n",
              "        }\n",
              "      </script>\n",
              "    </div>\n",
              "  </div>\n",
              "  "
            ]
          },
          "metadata": {},
          "execution_count": 4
        }
      ]
    },
    {
      "cell_type": "markdown",
      "source": [
        "**What's the mean of Customers_Age?**"
      ],
      "metadata": {
        "id": "QUsAb8hOgoXI"
      }
    },
    {
      "cell_type": "code",
      "source": [
        "sales['Customer_Age'].mean()"
      ],
      "metadata": {
        "colab": {
          "base_uri": "https://localhost:8080/"
        },
        "id": "gYnkSCbygoEE",
        "outputId": "f5b56a40-3643-4718-9efb-e7e81bd5a8c0"
      },
      "execution_count": 5,
      "outputs": [
        {
          "output_type": "execute_result",
          "data": {
            "text/plain": [
              "36.00818074575576"
            ]
          },
          "metadata": {},
          "execution_count": 5
        }
      ]
    },
    {
      "cell_type": "markdown",
      "source": [
        "Go ahead and show a density (KDE) and a box plot with the Customer_Age data:"
      ],
      "metadata": {
        "id": "SzqbEXZWhiJM"
      }
    },
    {
      "cell_type": "code",
      "source": [
        "sales['Customer_Age'].plot(kind='kde', figsize=(14,6))"
      ],
      "metadata": {
        "colab": {
          "base_uri": "https://localhost:8080/",
          "height": 392
        },
        "id": "0SoD7YiAg9hc",
        "outputId": "3d70b04e-5aa8-44a8-e727-8fe891f74287"
      },
      "execution_count": 6,
      "outputs": [
        {
          "output_type": "execute_result",
          "data": {
            "text/plain": [
              "<matplotlib.axes._subplots.AxesSubplot at 0x7fbde91db350>"
            ]
          },
          "metadata": {},
          "execution_count": 6
        },
        {
          "output_type": "display_data",
          "data": {
            "text/plain": [
              "<Figure size 1008x432 with 1 Axes>"
            ],
            "image/png": "[encoded data removed]"
          },
          "metadata": {
            "needs_background": "light"
          }
        }
      ]
    },
    {
      "cell_type": "code",
      "source": [
        "sales['Customer_Age'].plot(kind='box', vert=False, figsize=(14,6))"
      ],
      "metadata": {
        "colab": {
          "base_uri": "https://localhost:8080/",
          "height": 392
        },
        "id": "9QnhRcZ-homX",
        "outputId": "41d897aa-cfb8-4f4f-ccb6-2761c4872c34"
      },
      "execution_count": 7,
      "outputs": [
        {
          "output_type": "execute_result",
          "data": {
            "text/plain": [
              "<matplotlib.axes._subplots.AxesSubplot at 0x7fbddaf3e550>"
            ]
          },
          "metadata": {},
          "execution_count": 7
        },
        {
          "output_type": "display_data",
          "data": {
            "text/plain": [
              "<Figure size 1008x432 with 1 Axes>"
            ],
            "image/png": "[encoded data removed]"
          },
          "metadata": {
            "needs_background": "light"
          }
        }
      ]
    },
    {
      "cell_type": "markdown",
      "source": [
        "What's the mean of Order_Quantity?"
      ],
      "metadata": {
        "id": "HqJ4beBthwOr"
      }
    },
    {
      "cell_type": "code",
      "source": [
        "sales['Order_Quantity'].mean()"
      ],
      "metadata": {
        "colab": {
          "base_uri": "https://localhost:8080/"
        },
        "id": "29mzHJLnht86",
        "outputId": "be64af09-18eb-464a-ac8c-697edcf777f0"
      },
      "execution_count": 8,
      "outputs": [
        {
          "output_type": "execute_result",
          "data": {
            "text/plain": [
              "11.093283582089553"
            ]
          },
          "metadata": {},
          "execution_count": 8
        }
      ]
    },
    {
      "cell_type": "markdown",
      "source": [
        "Go ahead and show a histogram and a box plot with the Order_Quantity data:"
      ],
      "metadata": {
        "id": "29I23e6Fh27N"
      }
    },
    {
      "cell_type": "code",
      "source": [
        "sales['Order_Quantity'].plot(kind='hist', bins=30, figsize=(14,6))"
      ],
      "metadata": {
        "colab": {
          "base_uri": "https://localhost:8080/",
          "height": 392
        },
        "id": "PHeEFokKh4rv",
        "outputId": "dd10c4e9-a30e-4924-9c54-e3e16ab9fdd4"
      },
      "execution_count": 11,
      "outputs": [
        {
          "output_type": "execute_result",
          "data": {
            "text/plain": [
              "<matplotlib.axes._subplots.AxesSubplot at 0x7fbdda968e50>"
            ]
          },
          "metadata": {},
          "execution_count": 11
        },
        {
          "output_type": "display_data",
          "data": {
            "text/plain": [
              "<Figure size 1008x432 with 1 Axes>"
            ],
            "image/png": "[encoded data removed]"
          },
          "metadata": {
            "needs_background": "light"
          }
        }
      ]
    },
    {
      "cell_type": "code",
      "source": [
        "sales['Order_Quantity'].plot(kind='hist', bins=30, figsize=(14,6))"
      ],
      "metadata": {
        "colab": {
          "base_uri": "https://localhost:8080/",
          "height": 392
        },
        "id": "xOh0pfKvh-7D",
        "outputId": "011496cc-0e6d-40eb-832f-de5765e1af42"
      },
      "execution_count": 10,
      "outputs": [
        {
          "output_type": "execute_result",
          "data": {
            "text/plain": [
              "<matplotlib.axes._subplots.AxesSubplot at 0x7fbdda9532d0>"
            ]
          },
          "metadata": {},
          "execution_count": 10
        },
        {
          "output_type": "display_data",
          "data": {
            "text/plain": [
              "<Figure size 1008x432 with 1 Axes>"
            ],
            "image/png": "[encoded data removed]"
          },
          "metadata": {
            "needs_background": "light"
          }
        }
      ]
    },
    {
      "cell_type": "markdown",
      "source": [
        " How many sales per year do we have?"
      ],
      "metadata": {
        "id": "qQavilXTiBCM"
      }
    },
    {
      "cell_type": "code",
      "source": [
        "sales['Year'].value_counts()"
      ],
      "metadata": {
        "colab": {
          "base_uri": "https://localhost:8080/"
        },
        "id": "S1MvngnniRDy",
        "outputId": "6e0fa18e-4bb3-4140-f898-7f00087364e6"
      },
      "execution_count": 12,
      "outputs": [
        {
          "output_type": "execute_result",
          "data": {
            "text/plain": [
              "2014    19396\n",
              "2016    19396\n",
              "2013    16921\n",
              "2015    16921\n",
              "2012     2677\n",
              "2011     2677\n",
              "Name: Year, dtype: int64"
            ]
          },
          "metadata": {},
          "execution_count": 12
        }
      ]
    },
    {
      "cell_type": "markdown",
      "source": [
        "Go ahead and show a pie plot with the previous data:"
      ],
      "metadata": {
        "id": "66KosirGjBzm"
      }
    },
    {
      "cell_type": "code",
      "source": [
        "sales['Year'].value_counts().plot(kind='pie', figsize=(6,6))"
      ],
      "metadata": {
        "colab": {
          "base_uri": "https://localhost:8080/",
          "height": 375
        },
        "id": "n69HF9lbjCmh",
        "outputId": "4ad97235-4f1c-48f6-ed13-5b5a755dfb70"
      },
      "execution_count": 13,
      "outputs": [
        {
          "output_type": "execute_result",
          "data": {
            "text/plain": [
              "<matplotlib.axes._subplots.AxesSubplot at 0x7fbdda7fb810>"
            ]
          },
          "metadata": {},
          "execution_count": 13
        },
        {
          "output_type": "display_data",
          "data": {
            "text/plain": [
              "<Figure size 432x432 with 1 Axes>"
            ],
            "image/png": "[encoded data removed]"
          },
          "metadata": {}
        }
      ]
    },
    {
      "cell_type": "markdown",
      "source": [
        "How many sales per month do we have?"
      ],
      "metadata": {
        "id": "ovqECv6ljFM1"
      }
    },
    {
      "cell_type": "code",
      "source": [
        "sales['Month'].value_counts()"
      ],
      "metadata": {
        "colab": {
          "base_uri": "https://localhost:8080/"
        },
        "id": "sG68f3u2jQcK",
        "outputId": "3802eadc-ab90-49ad-a793-e638f2c31a64"
      },
      "execution_count": 14,
      "outputs": [
        {
          "output_type": "execute_result",
          "data": {
            "text/plain": [
              "June         8144\n",
              "December     7900\n",
              "May          7818\n",
              "April        7056\n",
              "March        6750\n",
              "January      6334\n",
              "February     6248\n",
              "November     5838\n",
              "October      5816\n",
              "August       5528\n",
              "September    5520\n",
              "July         5036\n",
              "Name: Month, dtype: int64"
            ]
          },
          "metadata": {},
          "execution_count": 14
        }
      ]
    },
    {
      "cell_type": "code",
      "source": [
        "sales['Month'].value_counts().plot(kind='bar', figsize=(14,6))"
      ],
      "metadata": {
        "colab": {
          "base_uri": "https://localhost:8080/",
          "height": 437
        },
        "id": "3kwHoZMljj3z",
        "outputId": "a5140510-0778-4acb-96ef-2c6b87db55f8"
      },
      "execution_count": 15,
      "outputs": [
        {
          "output_type": "execute_result",
          "data": {
            "text/plain": [
              "<matplotlib.axes._subplots.AxesSubplot at 0x7fbdda755810>"
            ]
          },
          "metadata": {},
          "execution_count": 15
        },
        {
          "output_type": "display_data",
          "data": {
            "text/plain": [
              "<Figure size 1008x432 with 1 Axes>"
            ],
            "image/png": "[encoded data removed]"
          },
          "metadata": {
            "needs_background": "light"
          }
        }
      ]
    },
    {
      "cell_type": "markdown",
      "source": [
        "Which country has the most sales quantity of sales?"
      ],
      "metadata": {
        "id": "T7Ia9uuijsGe"
      }
    },
    {
      "cell_type": "code",
      "source": [
        "sales['Country'].value_counts().head(1)"
      ],
      "metadata": {
        "colab": {
          "base_uri": "https://localhost:8080/"
        },
        "id": "nMLmyD1oj1Tx",
        "outputId": "80d4f338-577e-4196-b82a-c137a436be89"
      },
      "execution_count": 16,
      "outputs": [
        {
          "output_type": "execute_result",
          "data": {
            "text/plain": [
              "United States    27624\n",
              "Name: Country, dtype: int64"
            ]
          },
          "metadata": {},
          "execution_count": 16
        }
      ]
    },
    {
      "cell_type": "code",
      "source": [
        "sales['Country'].value_counts()"
      ],
      "metadata": {
        "colab": {
          "base_uri": "https://localhost:8080/"
        },
        "id": "j9EXZpyukAiO",
        "outputId": "3288ae71-26ee-4f43-f362-d8aae510d622"
      },
      "execution_count": 17,
      "outputs": [
        {
          "output_type": "execute_result",
          "data": {
            "text/plain": [
              "United States     27624\n",
              "Australia         17064\n",
              "Canada             9324\n",
              "United Kingdom     9210\n",
              "Germany            7518\n",
              "France             7248\n",
              "Name: Country, dtype: int64"
            ]
          },
          "metadata": {},
          "execution_count": 17
        }
      ]
    },
    {
      "cell_type": "markdown",
      "source": [
        "Go ahead and show a bar plot of the sales per country:"
      ],
      "metadata": {
        "id": "TlqYTFGvlr4i"
      }
    },
    {
      "cell_type": "code",
      "source": [
        "sales['Country'].value_counts().plot(kind='bar', figsize=(14,6))"
      ],
      "metadata": {
        "colab": {
          "base_uri": "https://localhost:8080/",
          "height": 462
        },
        "id": "6XQJuBNkluFa",
        "outputId": "273886c7-fb5e-4ec8-a7f2-f42e7cd3ef74"
      },
      "execution_count": 18,
      "outputs": [
        {
          "output_type": "execute_result",
          "data": {
            "text/plain": [
              "<matplotlib.axes._subplots.AxesSubplot at 0x7fbdda686290>"
            ]
          },
          "metadata": {},
          "execution_count": 18
        },
        {
          "output_type": "display_data",
          "data": {
            "text/plain": [
              "<Figure size 1008x432 with 1 Axes>"
            ],
            "image/png": "[encoded data removed]"
          },
          "metadata": {
            "needs_background": "light"
          }
        }
      ]
    },
    {
      "cell_type": "markdown",
      "source": [
        " Create a list of every product sold"
      ],
      "metadata": {
        "id": "wFMEeLHml0Nw"
      }
    },
    {
      "cell_type": "code",
      "source": [
        "#sales.loc[:, 'Product'].unique()\n",
        "\n",
        "sales['Product'].unique()"
      ],
      "metadata": {
        "colab": {
          "base_uri": "https://localhost:8080/"
        },
        "id": "sUhojHMcl2mL",
        "outputId": "96a41a16-a319-4233-fe95-7e522285609a"
      },
      "execution_count": 19,
      "outputs": [
        {
          "output_type": "execute_result",
          "data": {
            "text/plain": [
              "array(['Hitch Rack - 4-Bike', 'All-Purpose Bike Stand',\n",
              "       'Mountain Bottle Cage', 'Water Bottle - 30 oz.',\n",
              "       'Road Bottle Cage', 'AWC Logo Cap', 'Bike Wash - Dissolver',\n",
              "       'Fender Set - Mountain', 'Half-Finger Gloves, L',\n",
              "       'Half-Finger Gloves, M', 'Half-Finger Gloves, S',\n",
              "       'Sport-100 Helmet, Black', 'Sport-100 Helmet, Red',\n",
              "       'Sport-100 Helmet, Blue', 'Hydration Pack - 70 oz.',\n",
              "       'Short-Sleeve Classic Jersey, XL',\n",
              "       'Short-Sleeve Classic Jersey, L', 'Short-Sleeve Classic Jersey, M',\n",
              "       'Short-Sleeve Classic Jersey, S', 'Long-Sleeve Logo Jersey, M',\n",
              "       'Long-Sleeve Logo Jersey, XL', 'Long-Sleeve Logo Jersey, L',\n",
              "       'Long-Sleeve Logo Jersey, S', 'Mountain-100 Silver, 38',\n",
              "       'Mountain-100 Silver, 44', 'Mountain-100 Black, 48',\n",
              "       'Mountain-100 Silver, 48', 'Mountain-100 Black, 38',\n",
              "       'Mountain-200 Silver, 38', 'Mountain-100 Black, 44',\n",
              "       'Mountain-100 Silver, 42', 'Mountain-200 Black, 46',\n",
              "       'Mountain-200 Silver, 42', 'Mountain-200 Silver, 46',\n",
              "       'Mountain-200 Black, 38', 'Mountain-100 Black, 42',\n",
              "       'Mountain-200 Black, 42', 'Mountain-400-W Silver, 46',\n",
              "       'Mountain-500 Silver, 40', 'Mountain-500 Silver, 44',\n",
              "       'Mountain-500 Black, 48', 'Mountain-500 Black, 40',\n",
              "       'Mountain-400-W Silver, 42', 'Mountain-500 Silver, 52',\n",
              "       'Mountain-500 Black, 52', 'Mountain-500 Silver, 42',\n",
              "       'Mountain-500 Black, 44', 'Mountain-500 Silver, 48',\n",
              "       'Mountain-400-W Silver, 38', 'Mountain-400-W Silver, 40',\n",
              "       'Mountain-500 Black, 42', 'Road-150 Red, 48', 'Road-150 Red, 62',\n",
              "       'Road-750 Black, 48', 'Road-750 Black, 58', 'Road-750 Black, 52',\n",
              "       'Road-150 Red, 52', 'Road-150 Red, 44', 'Road-150 Red, 56',\n",
              "       'Road-750 Black, 44', 'Road-350-W Yellow, 40',\n",
              "       'Road-350-W Yellow, 42', 'Road-250 Black, 44',\n",
              "       'Road-250 Black, 48', 'Road-350-W Yellow, 48',\n",
              "       'Road-550-W Yellow, 44', 'Road-550-W Yellow, 38',\n",
              "       'Road-250 Black, 52', 'Road-550-W Yellow, 48', 'Road-250 Red, 58',\n",
              "       'Road-250 Black, 58', 'Road-250 Red, 52', 'Road-250 Red, 48',\n",
              "       'Road-250 Red, 44', 'Road-550-W Yellow, 42',\n",
              "       'Road-550-W Yellow, 40', 'Road-650 Red, 48', 'Road-650 Red, 60',\n",
              "       'Road-650 Black, 48', 'Road-350-W Yellow, 44', 'Road-650 Red, 52',\n",
              "       'Road-650 Black, 44', 'Road-650 Red, 62', 'Road-650 Red, 58',\n",
              "       'Road-650 Black, 60', 'Road-650 Black, 58', 'Road-650 Black, 52',\n",
              "       'Road-650 Black, 62', 'Road-650 Red, 44',\n",
              "       \"Women's Mountain Shorts, M\", \"Women's Mountain Shorts, S\",\n",
              "       \"Women's Mountain Shorts, L\", 'Racing Socks, L', 'Racing Socks, M',\n",
              "       'Mountain Tire Tube', 'Touring Tire Tube', 'Patch Kit/8 Patches',\n",
              "       'HL Mountain Tire', 'LL Mountain Tire', 'Road Tire Tube',\n",
              "       'LL Road Tire', 'Touring Tire', 'ML Mountain Tire'], dtype=object)"
            ]
          },
          "metadata": {},
          "execution_count": 19
        }
      ]
    },
    {
      "cell_type": "markdown",
      "source": [
        "Create a bar plot showing the 10 most sold products (best seller"
      ],
      "metadata": {
        "id": "2jNBnIFmmG6v"
      }
    },
    {
      "cell_type": "code",
      "source": [
        "sales['Product'].value_counts().head(10).plot(kind='bar', figsize=(14,6))"
      ],
      "metadata": {
        "colab": {
          "base_uri": "https://localhost:8080/",
          "height": 504
        },
        "id": "9PZfurH6mEWt",
        "outputId": "636d6721-55f5-4d13-ddbb-b19b7307c264"
      },
      "execution_count": 20,
      "outputs": [
        {
          "output_type": "execute_result",
          "data": {
            "text/plain": [
              "<matplotlib.axes._subplots.AxesSubplot at 0x7fbdda67c810>"
            ]
          },
          "metadata": {},
          "execution_count": 20
        },
        {
          "output_type": "display_data",
          "data": {
            "text/plain": [
              "<Figure size 1008x432 with 1 Axes>"
            ],
            "image/png": "[encoded data removed]"
          },
          "metadata": {
            "needs_background": "light"
          }
        }
      ]
    },
    {
      "cell_type": "markdown",
      "source": [
        "# Can you see any relationship between Unit_Cost and Unit_Price?\n",
        "Show a scatter plot between both columns."
      ],
      "metadata": {
        "id": "yIN7ZjLImMS4"
      }
    },
    {
      "cell_type": "code",
      "source": [
        "sales.plot(kind='scatter', x='Unit_Cost', y='Unit_Price', figsize=(6,6))"
      ],
      "metadata": {
        "colab": {
          "base_uri": "https://localhost:8080/",
          "height": 407
        },
        "id": "0QAX3ePgmRJO",
        "outputId": "cf19ba6c-0aea-4a49-ac16-6858a29ac7ea"
      },
      "execution_count": 21,
      "outputs": [
        {
          "output_type": "execute_result",
          "data": {
            "text/plain": [
              "<matplotlib.axes._subplots.AxesSubplot at 0x7fbdda5d77d0>"
            ]
          },
          "metadata": {},
          "execution_count": 21
        },
        {
          "output_type": "display_data",
          "data": {
            "text/plain": [
              "<Figure size 432x432 with 1 Axes>"
            ],
            "image/png": "[encoded data removed]"
          },
          "metadata": {
            "needs_background": "light"
          }
        }
      ]
    },
    {
      "cell_type": "markdown",
      "source": [
        "# Can you see any relationship between Order_Quantity and Profit?\n",
        "Show a scatter plot between both columns."
      ],
      "metadata": {
        "id": "zHbtkM6Gmkrm"
      }
    },
    {
      "cell_type": "code",
      "source": [
        "sales.plot(kind='scatter', x='Order_Quantity', y='Profit', figsize=(6,6))"
      ],
      "metadata": {
        "colab": {
          "base_uri": "https://localhost:8080/",
          "height": 407
        },
        "id": "ZjwpqIgvm2yg",
        "outputId": "e1021953-18d3-482e-a982-741201103af0"
      },
      "execution_count": 22,
      "outputs": [
        {
          "output_type": "execute_result",
          "data": {
            "text/plain": [
              "<matplotlib.axes._subplots.AxesSubplot at 0x7fbdda575890>"
            ]
          },
          "metadata": {},
          "execution_count": 22
        },
        {
          "output_type": "display_data",
          "data": {
            "text/plain": [
              "<Figure size 432x432 with 1 Axes>"
            ],
            "image/png": "[encoded data removed]"
          },
          "metadata": {
            "needs_background": "light"
          }
        }
      ]
    },
    {
      "cell_type": "markdown",
      "source": [
        "# Can you see any relationship between Profit per Country?\n",
        "Show a grouped box plot per country with the profit values"
      ],
      "metadata": {
        "id": "nbyYzgLBm518"
      }
    },
    {
      "cell_type": "code",
      "source": [
        "sales[['Profit', 'Country']].boxplot(by='Country', figsize=(10,6))"
      ],
      "metadata": {
        "colab": {
          "base_uri": "https://localhost:8080/",
          "height": 495
        },
        "id": "uQhdwcqPnCnE",
        "outputId": "6875dbfa-6a78-4ec3-94a1-d5db4c310651"
      },
      "execution_count": 23,
      "outputs": [
        {
          "output_type": "stream",
          "name": "stderr",
          "text": [
            "/usr/local/lib/python3.7/dist-packages/matplotlib/cbook/__init__.py:1376: VisibleDeprecationWarning: Creating an ndarray from ragged nested sequences (which is a list-or-tuple of lists-or-tuples-or ndarrays with different lengths or shapes) is deprecated. If you meant to do this, you must specify 'dtype=object' when creating the ndarray.\n",
            "  X = np.atleast_1d(X.T if isinstance(X, np.ndarray) else np.asarray(X))\n"
          ]
        },
        {
          "output_type": "execute_result",
          "data": {
            "text/plain": [
              "<matplotlib.axes._subplots.AxesSubplot at 0x7fbdda4d2450>"
            ]
          },
          "metadata": {},
          "execution_count": 23
        },
        {
          "output_type": "display_data",
          "data": {
            "text/plain": [
              "<Figure size 720x432 with 1 Axes>"
            ],
            "image/png": "[encoded data removed]"
          },
          "metadata": {
            "needs_background": "light"
          }
        }
      ]
    },
    {
      "cell_type": "markdown",
      "source": [
        "# Can you see any relationship between the Customer_Age per Country?\n",
        "Show a grouped box plot per country with the customer age values."
      ],
      "metadata": {
        "id": "weLw4_4InIQo"
      }
    },
    {
      "cell_type": "code",
      "source": [
        "sales[['Customer_Age', 'Country']].boxplot(by='Country', figsize=(10,6))"
      ],
      "metadata": {
        "id": "GU7N-ICdnMaV"
      },
      "execution_count": null,
      "outputs": []
    },
    {
      "cell_type": "markdown",
      "source": [
        "# Add and calculate a new Calculated_Date column\n",
        "Use Day, Month, Year to create a Date column (YYYY-MM-DD)."
      ],
      "metadata": {
        "id": "xANnWHjUnPLc"
      }
    },
    {
      "cell_type": "code",
      "source": [
        "sales['Calculated_Date'] = sales[['Year', 'Month', 'Day']].apply(lambda x: '{}-{}-{}'.format(x[0], x[1], x[2]), axis=1)\n",
        "\n",
        "sales['Calculated_Date'].head()"
      ],
      "metadata": {
        "colab": {
          "base_uri": "https://localhost:8080/"
        },
        "id": "YzgmWVY4nUOB",
        "outputId": "a1d41388-fa16-4dcf-c26f-edc8f63ccb8a"
      },
      "execution_count": 24,
      "outputs": [
        {
          "output_type": "execute_result",
          "data": {
            "text/plain": [
              "0    2013-November-26\n",
              "1    2015-November-26\n",
              "2       2014-March-23\n",
              "3       2016-March-23\n",
              "4         2014-May-15\n",
              "Name: Calculated_Date, dtype: object"
            ]
          },
          "metadata": {},
          "execution_count": 24
        }
      ]
    },
    {
      "cell_type": "markdown",
      "source": [
        "# Parse your Calculated_Date column into a datetime object"
      ],
      "metadata": {
        "id": "4GaxLa7_nfW-"
      }
    },
    {
      "cell_type": "code",
      "source": [
        "sales['Calculated_Date'] = pd.to_datetime(sales['Calculated_Date'])\n",
        "\n",
        "sales['Calculated_Date'].head()"
      ],
      "metadata": {
        "colab": {
          "base_uri": "https://localhost:8080/"
        },
        "id": "chVgOilgnjZr",
        "outputId": "063e7b71-0c75-47ea-a3a6-481dbff6a0be"
      },
      "execution_count": 25,
      "outputs": [
        {
          "output_type": "execute_result",
          "data": {
            "text/plain": [
              "0   2013-11-26\n",
              "1   2015-11-26\n",
              "2   2014-03-23\n",
              "3   2016-03-23\n",
              "4   2014-05-15\n",
              "Name: Calculated_Date, dtype: datetime64[ns]"
            ]
          },
          "metadata": {},
          "execution_count": 25
        }
      ]
    },
    {
      "cell_type": "markdown",
      "source": [
        "# How did sales evolve through the years?\n",
        "Show a line plot using Calculated_Date column as the x-axis and the count of sales as the y-axis."
      ],
      "metadata": {
        "id": "NluOWawmnl_Z"
      }
    },
    {
      "cell_type": "code",
      "source": [
        "sales['Calculated_Date'].value_counts().plot(kind='line', figsize=(14,6))"
      ],
      "metadata": {
        "colab": {
          "base_uri": "https://localhost:8080/",
          "height": 371
        },
        "id": "-bcwvoyDolXa",
        "outputId": "6c125655-670a-40da-ac1b-c78b3576cae5"
      },
      "execution_count": 26,
      "outputs": [
        {
          "output_type": "execute_result",
          "data": {
            "text/plain": [
              "<matplotlib.axes._subplots.AxesSubplot at 0x7fbddaa659d0>"
            ]
          },
          "metadata": {},
          "execution_count": 26
        },
        {
          "output_type": "display_data",
          "data": {
            "text/plain": [
              "<Figure size 1008x432 with 1 Axes>"
            ],
            "image/png": "[encoded data removed]"
          },
          "metadata": {
            "needs_background": "light"
          }
        }
      ]
    },
    {
      "cell_type": "markdown",
      "source": [
        "Increase 50 U$S revenue to every sale"
      ],
      "metadata": {
        "id": "rzuysKcZpD_t"
      }
    },
    {
      "cell_type": "code",
      "source": [
        "#sales['Revenue'] = sales['Revenue'] + 50\n",
        "\n",
        "sales['Revenue'] += 50"
      ],
      "metadata": {
        "id": "4GGhXKURpGWQ"
      },
      "execution_count": 27,
      "outputs": []
    },
    {
      "cell_type": "markdown",
      "source": [
        "# How many orders were made in Canada or France?"
      ],
      "metadata": {
        "id": "4BhzasPZpKPl"
      }
    },
    {
      "cell_type": "code",
      "source": [
        "sales.loc[(sales['Country'] == 'Canada') | (sales['Country'] == 'France')].shape[0]\n"
      ],
      "metadata": {
        "colab": {
          "base_uri": "https://localhost:8080/"
        },
        "id": "2n7OIyRypOa4",
        "outputId": "9b640662-5401-4b95-f4b1-82c20f2adcc7"
      },
      "execution_count": 28,
      "outputs": [
        {
          "output_type": "execute_result",
          "data": {
            "text/plain": [
              "16572"
            ]
          },
          "metadata": {},
          "execution_count": 28
        }
      ]
    },
    {
      "cell_type": "markdown",
      "source": [
        "# How many Bike Racks orders were made from Canada?"
      ],
      "metadata": {
        "id": "SRATXoKUpSxY"
      }
    },
    {
      "cell_type": "code",
      "source": [
        "sales.loc[(sales['Country'] == 'Canada') & (sales['Sub_Category'] == 'Bike Racks')].shape[0]"
      ],
      "metadata": {
        "colab": {
          "base_uri": "https://localhost:8080/"
        },
        "id": "xauZNq4apYPw",
        "outputId": "c40ca321-7d7d-4e91-8da6-a69c07bfbaa4"
      },
      "execution_count": 29,
      "outputs": [
        {
          "output_type": "execute_result",
          "data": {
            "text/plain": [
              "104"
            ]
          },
          "metadata": {},
          "execution_count": 29
        }
      ]
    },
    {
      "cell_type": "markdown",
      "source": [
        "# How many orders were made in each region (state) of France?"
      ],
      "metadata": {
        "id": "5wzgSSQqp2jM"
      }
    },
    {
      "cell_type": "code",
      "source": [
        "france_states = sales.loc[sales['Country'] == 'France', 'State'].value_counts()\n",
        "\n",
        "france_states"
      ],
      "metadata": {
        "id": "1JI63zJap5nm"
      },
      "execution_count": null,
      "outputs": []
    },
    {
      "cell_type": "markdown",
      "source": [
        "Go ahead and show a bar plot with the results:"
      ],
      "metadata": {
        "id": "AZo_nonDp8xP"
      }
    },
    {
      "cell_type": "code",
      "source": [
        "sales['Product_Category'].value_counts().plot(kind='pie', figsize=(6,6))"
      ],
      "metadata": {
        "colab": {
          "base_uri": "https://localhost:8080/",
          "height": 375
        },
        "id": "l3_EOHU7qAus",
        "outputId": "96ac93a4-262f-47e1-e873-025e8fce1eab"
      },
      "execution_count": 30,
      "outputs": [
        {
          "output_type": "execute_result",
          "data": {
            "text/plain": [
              "<matplotlib.axes._subplots.AxesSubplot at 0x7fbdda668c50>"
            ]
          },
          "metadata": {},
          "execution_count": 30
        },
        {
          "output_type": "display_data",
          "data": {
            "text/plain": [
              "<Figure size 432x432 with 1 Axes>"
            ],
            "image/png": "[encoded data removed]"
          },
          "metadata": {}
        }
      ]
    },
    {
      "cell_type": "markdown",
      "source": [
        "# How many orders were made per accessory sub-categories?"
      ],
      "metadata": {
        "id": "XiRTzQTDqMGl"
      }
    },
    {
      "cell_type": "code",
      "source": [
        "accessories = sales.loc[sales['Product_Category'] == 'Accessories', 'Sub_Category'].value_counts()\n",
        "\n",
        "accessories"
      ],
      "metadata": {
        "colab": {
          "base_uri": "https://localhost:8080/"
        },
        "id": "-pe_5foVqPTT",
        "outputId": "75625ef6-0c4c-4ab1-cf63-8a36f24a0a6e"
      },
      "execution_count": 31,
      "outputs": [
        {
          "output_type": "execute_result",
          "data": {
            "text/plain": [
              "Bottles and Cages    15876\n",
              "Helmets              12158\n",
              "Fenders               4032\n",
              "Tires and Tubes       3484\n",
              "Cleaners              1802\n",
              "Hydration Packs       1334\n",
              "Bike Racks             592\n",
              "Bike Stands            456\n",
              "Name: Sub_Category, dtype: int64"
            ]
          },
          "metadata": {},
          "execution_count": 31
        }
      ]
    },
    {
      "cell_type": "markdown",
      "source": [
        "Go ahead and show a bar plot with the results:"
      ],
      "metadata": {
        "id": "qHUH1GpJqSvK"
      }
    },
    {
      "cell_type": "code",
      "source": [
        "accessories.plot(kind='bar', figsize=(14,6))"
      ],
      "metadata": {
        "colab": {
          "base_uri": "https://localhost:8080/",
          "height": 473
        },
        "id": "b99j4OzWqV2-",
        "outputId": "3a14f868-cccd-4a0e-8bb5-1b6983f8f82d"
      },
      "execution_count": 32,
      "outputs": [
        {
          "output_type": "execute_result",
          "data": {
            "text/plain": [
              "<matplotlib.axes._subplots.AxesSubplot at 0x7fbdda67f450>"
            ]
          },
          "metadata": {},
          "execution_count": 32
        },
        {
          "output_type": "display_data",
          "data": {
            "text/plain": [
              "<Figure size 1008x432 with 1 Axes>"
            ],
            "image/png": "[encoded data removed]"
          },
          "metadata": {
            "needs_background": "light"
          }
        }
      ]
    },
    {
      "cell_type": "markdown",
      "source": [
        "# How many orders were made per bike sub-categories?"
      ],
      "metadata": {
        "id": "8o0Shhi_qgDz"
      }
    },
    {
      "cell_type": "code",
      "source": [
        "bikes = sales.loc[sales['Product_Category'] == 'Bikes', 'Sub_Category'].value_counts()\n",
        "\n",
        "bikes"
      ],
      "metadata": {
        "colab": {
          "base_uri": "https://localhost:8080/"
        },
        "id": "ORhuWDjhqjdQ",
        "outputId": "12857d0a-1a48-4d8c-f728-e44758854752"
      },
      "execution_count": 33,
      "outputs": [
        {
          "output_type": "execute_result",
          "data": {
            "text/plain": [
              "Road Bikes        13430\n",
              "Mountain Bikes     8854\n",
              "Name: Sub_Category, dtype: int64"
            ]
          },
          "metadata": {},
          "execution_count": 33
        }
      ]
    },
    {
      "cell_type": "markdown",
      "source": [
        "Go ahead and show a pie plot with the results:"
      ],
      "metadata": {
        "id": "dEdTeFZAqmR3"
      }
    },
    {
      "cell_type": "code",
      "source": [
        "bikes.plot(kind='pie', figsize=(6,6))"
      ],
      "metadata": {
        "colab": {
          "base_uri": "https://localhost:8080/",
          "height": 375
        },
        "id": "KfjUl7gZqsR2",
        "outputId": "1984f64f-4f2c-46e6-dd93-23f0f4ec4ad3"
      },
      "execution_count": 34,
      "outputs": [
        {
          "output_type": "execute_result",
          "data": {
            "text/plain": [
              "<matplotlib.axes._subplots.AxesSubplot at 0x7fbdda46b810>"
            ]
          },
          "metadata": {},
          "execution_count": 34
        },
        {
          "output_type": "display_data",
          "data": {
            "text/plain": [
              "<Figure size 432x432 with 1 Axes>"
            ],
            "image/png": "[encoded data removed]"
          },
          "metadata": {}
        }
      ]
    },
    {
      "cell_type": "markdown",
      "source": [
        "# Which gender has the most amount of sales?"
      ],
      "metadata": {
        "id": "KKNJqV5squjf"
      }
    },
    {
      "cell_type": "code",
      "source": [
        "sales['Customer_Gender'].value_counts()"
      ],
      "metadata": {
        "colab": {
          "base_uri": "https://localhost:8080/"
        },
        "id": "3u6qRB0tq6aD",
        "outputId": "d9099421-5a9f-492f-e6d0-24aef84200ea"
      },
      "execution_count": 35,
      "outputs": [
        {
          "output_type": "execute_result",
          "data": {
            "text/plain": [
              "M    39860\n",
              "F    38128\n",
              "Name: Customer_Gender, dtype: int64"
            ]
          },
          "metadata": {},
          "execution_count": 35
        }
      ]
    },
    {
      "cell_type": "code",
      "source": [
        "sales['Customer_Gender'].value_counts().plot(kind='bar')"
      ],
      "metadata": {
        "colab": {
          "base_uri": "https://localhost:8080/",
          "height": 282
        },
        "id": "cqSuOkjYrDSt",
        "outputId": "74517c9d-e1d1-4aec-dd2e-8e2351bf7b6f"
      },
      "execution_count": 36,
      "outputs": [
        {
          "output_type": "execute_result",
          "data": {
            "text/plain": [
              "<matplotlib.axes._subplots.AxesSubplot at 0x7fbdd9af9810>"
            ]
          },
          "metadata": {},
          "execution_count": 36
        },
        {
          "output_type": "display_data",
          "data": {
            "text/plain": [
              "<Figure size 432x288 with 1 Axes>"
            ],
            "image/png": "[encoded data removed]"
          },
          "metadata": {
            "needs_background": "light"
          }
        }
      ]
    },
    {
      "cell_type": "markdown",
      "source": [],
      "metadata": {
        "id": "uBiru70WrEbF"
      }
    },
    {
      "cell_type": "markdown",
      "source": [
        "# How many sales with more than 500 in Revenue were made by men?"
      ],
      "metadata": {
        "id": "-5lqhHW6rEd8"
      }
    },
    {
      "cell_type": "code",
      "source": [
        "sales.loc[(sales['Customer_Gender'] == 'M') & (sales['Revenue'] == 500)].shape[0]"
      ],
      "metadata": {
        "colab": {
          "base_uri": "https://localhost:8080/"
        },
        "id": "CYnaMiForH8A",
        "outputId": "5468d7c5-22b1-43e4-c2f9-8649b4a67b49"
      },
      "execution_count": 37,
      "outputs": [
        {
          "output_type": "execute_result",
          "data": {
            "text/plain": [
              "39"
            ]
          },
          "metadata": {},
          "execution_count": 37
        }
      ]
    },
    {
      "cell_type": "markdown",
      "source": [
        "# Get the top-5 sales with the highest revenue"
      ],
      "metadata": {
        "id": "cuxszcEDrKoN"
      }
    },
    {
      "cell_type": "code",
      "source": [
        "sales.sort_values(['Revenue'], ascending=False).head(5)"
      ],
      "metadata": {
        "id": "pxvmY2bbrOsd"
      },
      "execution_count": null,
      "outputs": []
    },
    {
      "cell_type": "markdown",
      "source": [
        "Get the sale with the highest revenue"
      ],
      "metadata": {
        "id": "VyPyI3QhsUWb"
      }
    },
    {
      "cell_type": "code",
      "source": [
        "cond = sales['Revenue'] == sales['Revenue'].max()\n",
        "\n",
        "sales.loc[cond]\n"
      ],
      "metadata": {
        "colab": {
          "base_uri": "https://localhost:8080/",
          "height": 179
        },
        "id": "p-_uQKfnscYo",
        "outputId": "7c771e9a-e03f-44ef-8984-579af512e400"
      },
      "execution_count": 38,
      "outputs": [
        {
          "output_type": "execute_result",
          "data": {
            "text/plain": [
              "            Date  Day Month  Year  Customer_Age    Age_Group Customer_Gender  \\\n",
              "71129 2011-07-08    8  July  2011            22  Youth (<25)               M   \n",
              "\n",
              "      Country    State Product_Category Sub_Category           Product  \\\n",
              "71129  Canada  Alberta            Bikes   Road Bikes  Road-150 Red, 48   \n",
              "\n",
              "       Order_Quantity  Unit_Cost  Unit_Price  Profit  Cost  Revenue  \\\n",
              "71129               4       2171        3578    5628  8684  14362.0   \n",
              "\n",
              "      Calculated_Date  \n",
              "71129      2011-07-08  "
            ],
            "text/html": [
              "\n",
              "  <div id=\"df-092ace47-b672-4ce6-96ce-30cdf2236424\">\n",
              "    <div class=\"colab-df-container\">\n",
              "      <div>\n",
              "<style scoped>\n",
              "    .dataframe tbody tr th:only-of-type {\n",
              "        vertical-align: middle;\n",
              "    }\n",
              "\n",
              "    .dataframe tbody tr th {\n",
              "        vertical-align: top;\n",
              "    }\n",
              "\n",
              "    .dataframe thead th {\n",
              "        text-align: right;\n",
              "    }\n",
              "</style>\n",
              "<table border=\"1\" class=\"dataframe\">\n",
              "  <thead>\n",
              "    <tr style=\"text-align: right;\">\n",
              "      <th></th>\n",
              "      <th>Date</th>\n",
              "      <th>Day</th>\n",
              "      <th>Month</th>\n",
              "      <th>Year</th>\n",
              "      <th>Customer_Age</th>\n",
              "      <th>Age_Group</th>\n",
              "      <th>Customer_Gender</th>\n",
              "      <th>Country</th>\n",
              "      <th>State</th>\n",
              "      <th>Product_Category</th>\n",
              "      <th>Sub_Category</th>\n",
              "      <th>Product</th>\n",
              "      <th>Order_Quantity</th>\n",
              "      <th>Unit_Cost</th>\n",
              "      <th>Unit_Price</th>\n",
              "      <th>Profit</th>\n",
              "      <th>Cost</th>\n",
              "      <th>Revenue</th>\n",
              "      <th>Calculated_Date</th>\n",
              "    </tr>\n",
              "  </thead>\n",
              "  <tbody>\n",
              "    <tr>\n",
              "      <th>71129</th>\n",
              "      <td>2011-07-08</td>\n",
              "      <td>8</td>\n",
              "      <td>July</td>\n",
              "      <td>2011</td>\n",
              "      <td>22</td>\n",
              "      <td>Youth (&lt;25)</td>\n",
              "      <td>M</td>\n",
              "      <td>Canada</td>\n",
              "      <td>Alberta</td>\n",
              "      <td>Bikes</td>\n",
              "      <td>Road Bikes</td>\n",
              "      <td>Road-150 Red, 48</td>\n",
              "      <td>4</td>\n",
              "      <td>2171</td>\n",
              "      <td>3578</td>\n",
              "      <td>5628</td>\n",
              "      <td>8684</td>\n",
              "      <td>14362.0</td>\n",
              "      <td>2011-07-08</td>\n",
              "    </tr>\n",
              "  </tbody>\n",
              "</table>\n",
              "</div>\n",
              "      <button class=\"colab-df-convert\" onclick=\"convertToInteractive('df-092ace47-b672-4ce6-96ce-30cdf2236424')\"\n",
              "              title=\"Convert this dataframe to an interactive table.\"\n",
              "              style=\"display:none;\">\n",
              "        \n",
              "  <svg xmlns=\"http://www.w3.org/2000/svg\" height=\"24px\"viewBox=\"0 0 24 24\"\n",
              "       width=\"24px\">\n",
              "    <path d=\"M0 0h24v24H0V0z\" fill=\"none\"/>\n",
              "    <path d=\"M18.56 5.44l.94 2.06.94-2.06 2.06-.94-2.06-.94-.94-2.06-.94 2.06-2.06.94zm-11 1L8.5 8.5l.94-2.06 2.06-.94-2.06-.94L8.5 2.5l-.94 2.06-2.06.94zm10 10l.94 2.06.94-2.06 2.06-.94-2.06-.94-.94-2.06-.94 2.06-2.06.94z\"/><path d=\"M17.41 7.96l-1.37-1.37c-.4-.4-.92-.59-1.43-.59-.52 0-1.04.2-1.43.59L10.3 9.45l-7.72 7.72c-.78.78-.78 2.05 0 2.83L4 21.41c.39.39.9.59 1.41.59.51 0 1.02-.2 1.41-.59l7.78-7.78 2.81-2.81c.8-.78.8-2.07 0-2.86zM5.41 20L4 18.59l7.72-7.72 1.47 1.35L5.41 20z\"/>\n",
              "  </svg>\n",
              "      </button>\n",
              "      \n",
              "  <style>\n",
              "    .colab-df-container {\n",
              "      display:flex;\n",
              "      flex-wrap:wrap;\n",
              "      gap: 12px;\n",
              "    }\n",
              "\n",
              "    .colab-df-convert {\n",
              "      background-color: #E8F0FE;\n",
              "      border: none;\n",
              "      border-radius: 50%;\n",
              "      cursor: pointer;\n",
              "      display: none;\n",
              "      fill: #1967D2;\n",
              "      height: 32px;\n",
              "      padding: 0 0 0 0;\n",
              "      width: 32px;\n",
              "    }\n",
              "\n",
              "    .colab-df-convert:hover {\n",
              "      background-color: #E2EBFA;\n",
              "      box-shadow: 0px 1px 2px rgba(60, 64, 67, 0.3), 0px 1px 3px 1px rgba(60, 64, 67, 0.15);\n",
              "      fill: #174EA6;\n",
              "    }\n",
              "\n",
              "    [theme=dark] .colab-df-convert {\n",
              "      background-color: #3B4455;\n",
              "      fill: #D2E3FC;\n",
              "    }\n",
              "\n",
              "    [theme=dark] .colab-df-convert:hover {\n",
              "      background-color: #434B5C;\n",
              "      box-shadow: 0px 1px 3px 1px rgba(0, 0, 0, 0.15);\n",
              "      filter: drop-shadow(0px 1px 2px rgba(0, 0, 0, 0.3));\n",
              "      fill: #FFFFFF;\n",
              "    }\n",
              "  </style>\n",
              "\n",
              "      <script>\n",
              "        const buttonEl =\n",
              "          document.querySelector('#df-092ace47-b672-4ce6-96ce-30cdf2236424 button.colab-df-convert');\n",
              "        buttonEl.style.display =\n",
              "          google.colab.kernel.accessAllowed ? 'block' : 'none';\n",
              "\n",
              "        async function convertToInteractive(key) {\n",
              "          const element = document.querySelector('#df-092ace47-b672-4ce6-96ce-30cdf2236424');\n",
              "          const dataTable =\n",
              "            await google.colab.kernel.invokeFunction('convertToInteractive',\n",
              "                                                     [key], {});\n",
              "          if (!dataTable) return;\n",
              "\n",
              "          const docLinkHtml = 'Like what you see? Visit the ' +\n",
              "            '<a target=\"_blank\" href=https://colab.research.google.com/notebooks/data_table.ipynb>data table notebook</a>'\n",
              "            + ' to learn more about interactive tables.';\n",
              "          element.innerHTML = '';\n",
              "          dataTable['output_type'] = 'display_data';\n",
              "          await google.colab.output.renderOutput(dataTable, element);\n",
              "          const docLink = document.createElement('div');\n",
              "          docLink.innerHTML = docLinkHtml;\n",
              "          element.appendChild(docLink);\n",
              "        }\n",
              "      </script>\n",
              "    </div>\n",
              "  </div>\n",
              "  "
            ]
          },
          "metadata": {},
          "execution_count": 38
        }
      ]
    },
    {
      "cell_type": "markdown",
      "source": [
        "What is the mean Order_Quantity of orders with more than 10K in revenue?"
      ],
      "metadata": {
        "id": "fWp-GRsZsgpa"
      }
    },
    {
      "cell_type": "code",
      "source": [
        "cond = sales['Revenue'] > 10_000\n",
        "\n",
        "sales.loc[cond, 'Order_Quantity'].mean()"
      ],
      "metadata": {
        "colab": {
          "base_uri": "https://localhost:8080/"
        },
        "id": "9bg1-A1vsksD",
        "outputId": "0eee3d3a-11de-42c6-eccd-9f4c54949b89"
      },
      "execution_count": 39,
      "outputs": [
        {
          "output_type": "execute_result",
          "data": {
            "text/plain": [
              "3.4114285714285715"
            ]
          },
          "metadata": {},
          "execution_count": 39
        }
      ]
    },
    {
      "cell_type": "markdown",
      "source": [
        "What is the mean Order_Quantity of orders with less than 10K in revenue?"
      ],
      "metadata": {
        "id": "RZw3eCUHsn_3"
      }
    },
    {
      "cell_type": "code",
      "source": [
        "cond = sales['Revenue'] < 10_000\n",
        "\n",
        "sales.loc[cond, 'Order_Quantity'].mean()"
      ],
      "metadata": {
        "colab": {
          "base_uri": "https://localhost:8080/"
        },
        "id": "1LTq0VhVq8ze",
        "outputId": "52a46cd2-9ab2-4a73-be61-b4da095c10a0"
      },
      "execution_count": 40,
      "outputs": [
        {
          "output_type": "execute_result",
          "data": {
            "text/plain": [
              "11.110664164910297"
            ]
          },
          "metadata": {},
          "execution_count": 40
        }
      ]
    },
    {
      "cell_type": "markdown",
      "source": [
        "How many orders were made in May of 2016?"
      ],
      "metadata": {
        "id": "wksASrwOsvl9"
      }
    },
    {
      "cell_type": "code",
      "source": [
        "cond = (sales['Year'] == 2016) & (sales['Month'] == 'May')\n",
        "\n",
        "sales.loc[cond].shape[0]\n"
      ],
      "metadata": {
        "colab": {
          "base_uri": "https://localhost:8080/"
        },
        "id": "cLR0ZLp6szRJ",
        "outputId": "67eac89d-8d0f-4d37-b446-43f350c55114"
      },
      "execution_count": 41,
      "outputs": [
        {
          "output_type": "execute_result",
          "data": {
            "text/plain": [
              "3360"
            ]
          },
          "metadata": {},
          "execution_count": 41
        }
      ]
    },
    {
      "cell_type": "markdown",
      "source": [
        "How many orders were made between May and July of 2016?"
      ],
      "metadata": {
        "id": "iAtuLJLSs2zV"
      }
    },
    {
      "cell_type": "code",
      "source": [
        "cond = (sales['Year'] == 2016) & (sales['Month'].isin(['May', 'June', 'July']))\n",
        "\n",
        "sales.loc[cond].shape[0]"
      ],
      "metadata": {
        "colab": {
          "base_uri": "https://localhost:8080/"
        },
        "id": "7z5rNhL1s5TQ",
        "outputId": "ab0d9c56-8afa-4aad-88bc-481e13ec3352"
      },
      "execution_count": 42,
      "outputs": [
        {
          "output_type": "execute_result",
          "data": {
            "text/plain": [
              "8049"
            ]
          },
          "metadata": {},
          "execution_count": 42
        }
      ]
    },
    {
      "cell_type": "markdown",
      "source": [
        "Show a grouped box plot per month with the profit values.\n",
        "\n"
      ],
      "metadata": {
        "id": "NUYIEP59s-bS"
      }
    },
    {
      "cell_type": "code",
      "source": [
        "profit_2016 = sales.loc[sales['Year'] == 2016, ['Profit', 'Month']]\n",
        "\n",
        "profit_2016.boxplot(by='Month', figsize=(14,6))"
      ],
      "metadata": {
        "colab": {
          "base_uri": "https://localhost:8080/",
          "height": 495
        },
        "id": "hfZAqopJtBPn",
        "outputId": "ec9b2be5-890e-47f5-d472-ebdf517aa4ab"
      },
      "execution_count": 43,
      "outputs": [
        {
          "output_type": "stream",
          "name": "stderr",
          "text": [
            "/usr/local/lib/python3.7/dist-packages/matplotlib/cbook/__init__.py:1376: VisibleDeprecationWarning: Creating an ndarray from ragged nested sequences (which is a list-or-tuple of lists-or-tuples-or ndarrays with different lengths or shapes) is deprecated. If you meant to do this, you must specify 'dtype=object' when creating the ndarray.\n",
            "  X = np.atleast_1d(X.T if isinstance(X, np.ndarray) else np.asarray(X))\n"
          ]
        },
        {
          "output_type": "execute_result",
          "data": {
            "text/plain": [
              "<matplotlib.axes._subplots.AxesSubplot at 0x7fbdd9ded290>"
            ]
          },
          "metadata": {},
          "execution_count": 43
        },
        {
          "output_type": "display_data",
          "data": {
            "text/plain": [
              "<Figure size 1008x432 with 1 Axes>"
            ],
            "image/png": "[encoded data removed]"
          },
          "metadata": {
            "needs_background": "light"
          }
        }
      ]
    },
    {
      "cell_type": "markdown",
      "source": [
        "# Add 7.2% TAX on every sale Unit_Price within United States"
      ],
      "metadata": {
        "id": "SR2w2tSwtEW0"
      }
    },
    {
      "cell_type": "code",
      "source": [
        "sales.loc[sales['Country'] == 'United States', 'Unit_Price'] *= 1.072"
      ],
      "metadata": {
        "id": "x-sk2EZqtIjk"
      },
      "execution_count": 44,
      "outputs": []
    }
  ]
}