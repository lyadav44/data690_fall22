{
  "nbformat": 4,
  "nbformat_minor": 0,
  "metadata": {
    "colab": {
      "provenance": [],
      "include_colab_link": true
    },
    "kernelspec": {
      "name": "python3",
      "display_name": "Python 3"
    },
    "language_info": {
      "name": "python"
    }
  },
  "cells": [
    {
      "cell_type": "markdown",
      "metadata": {
        "id": "view-in-github",
        "colab_type": "text"
      },
      "source": [
        "<a href=\"https://colab.research.google.com/github/lyadav44/data690_fall22/blob/main/Assignment_1/DATA690_FirstClass.ipynb\" target=\"_parent\"><img src=\"https://colab.research.google.com/assets/colab-badge.svg\" alt=\"Open In Colab\"/></a>"
      ]
    },
    {
      "cell_type": "markdown",
      "source": [
        "# Data 690 Session 1  in-class practice\n",
        "\n",
        "- Name: Laxmi Yadav\n",
        "- Date: 9/1/22"
      ],
      "metadata": {
        "id": "avQ-OmOgPz4F"
      }
    },
    {
      "cell_type": "code",
      "source": [
        "print(\"hello world\")"
      ],
      "metadata": {
        "colab": {
          "base_uri": "https://localhost:8080/"
        },
        "id": "fvHQGi1itrMB",
        "outputId": "c8e91a90-b1ee-4b2f-be27-23ddf0b28af1"
      },
      "execution_count": null,
      "outputs": [
        {
          "output_type": "stream",
          "name": "stdout",
          "text": [
            "hello world\n"
          ]
        }
      ]
    },
    {
      "cell_type": "code",
      "source": [
        "print(\"My name\", \"is laxmi\")"
      ],
      "metadata": {
        "id": "je-hEnWgvAc7",
        "outputId": "cb8b0ffe-65f2-4aa6-b111-1624272c5fef",
        "colab": {
          "base_uri": "https://localhost:8080/"
        }
      },
      "execution_count": null,
      "outputs": [
        {
          "output_type": "stream",
          "name": "stdout",
          "text": [
            "My name is laxmi\n"
          ]
        }
      ]
    },
    {
      "cell_type": "code",
      "source": [
        "age = 30\n",
        "name = \"laxmi\"\n",
        "print(\"My name is\", name, \", my age is\",age)"
      ],
      "metadata": {
        "id": "NkF2HIQRvNGR",
        "outputId": "846a0716-5ee2-4538-bc4d-f7e73e57b258",
        "colab": {
          "base_uri": "https://localhost:8080/"
        }
      },
      "execution_count": null,
      "outputs": [
        {
          "output_type": "stream",
          "name": "stdout",
          "text": [
            "My name is laxmi , my age is 30\n"
          ]
        }
      ]
    },
    {
      "cell_type": "code",
      "source": [
        "print(\"My name is \"+ name +\", my age is\",age)"
      ],
      "metadata": {
        "id": "8eETlT9Cv8rt",
        "outputId": "debb2f7a-32b3-4842-a04f-28e8e7c7b5fb",
        "colab": {
          "base_uri": "https://localhost:8080/"
        }
      },
      "execution_count": null,
      "outputs": [
        {
          "output_type": "stream",
          "name": "stdout",
          "text": [
            "My name is laxmi, my age is 30\n"
          ]
        }
      ]
    },
    {
      "cell_type": "code",
      "source": [
        "print(\"My name is \"+ name +\", my age is \" + str(age))"
      ],
      "metadata": {
        "id": "vXYU3q2Zw33F",
        "outputId": "e8d4460e-3391-4522-e173-65274bedabe0",
        "colab": {
          "base_uri": "https://localhost:8080/"
        }
      },
      "execution_count": null,
      "outputs": [
        {
          "output_type": "stream",
          "name": "stdout",
          "text": [
            "My name is laxmi, my age is 30\n"
          ]
        }
      ]
    },
    {
      "cell_type": "code",
      "source": [
        "age = \"30\"\n",
        "print(\"My name is \"+ name +\", my age is \" + age)"
      ],
      "metadata": {
        "id": "ICprDeM7w9-s",
        "outputId": "a3c6a992-4a9a-4c60-f91e-c46b11eb6bcd",
        "colab": {
          "base_uri": "https://localhost:8080/"
        }
      },
      "execution_count": null,
      "outputs": [
        {
          "output_type": "stream",
          "name": "stdout",
          "text": [
            "My name is laxmi, my age is 30\n"
          ]
        }
      ]
    }
  ]
}